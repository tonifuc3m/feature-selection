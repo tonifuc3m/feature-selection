{
 "cells": [
  {
   "cell_type": "markdown",
   "metadata": {},
   "source": [
    "Authors: Antonio Miranda Escalada"
   ]
  },
  {
   "cell_type": "markdown",
   "metadata": {},
   "source": [
    "# 0. SOME PRELIMINARIES "
   ]
  },
  {
   "cell_type": "code",
   "execution_count": 1,
   "metadata": {},
   "outputs": [
    {
     "name": "stderr",
     "output_type": "stream",
     "text": [
      "C:\\Users\\toni3\\Anaconda3\\lib\\site-packages\\sklearn\\ensemble\\weight_boosting.py:29: DeprecationWarning: numpy.core.umath_tests is an internal NumPy module and should not be imported. It will be removed in a future NumPy release.\n",
      "  from numpy.core.umath_tests import inner1d\n"
     ]
    },
    {
     "data": {
      "text/plain": [
       "'C:\\\\Users\\\\toni3\\\\Documents\\\\Universidad\\\\Master\\\\2\\\\BD Intelligence methods and technologies\\\\Assignments\\\\3'"
      ]
     },
     "execution_count": 1,
     "metadata": {},
     "output_type": "execute_result"
    }
   ],
   "source": [
    "# Import some libraries\n",
    "import matplotlib.pyplot as plt \n",
    "# For plotting data\n",
    "import numpy as np              \n",
    "# For Panda dataframes. A dataframe is a matrix-like structure, \n",
    "# similar to R dataframes  \n",
    "import pandas as pd\n",
    "\n",
    "from sklearn import metrics, neighbors, tree\n",
    "from sklearn.model_selection import GridSearchCV, RandomizedSearchCV\n",
    "from sklearn.ensemble import RandomForestRegressor, GradientBoostingRegressor\n",
    "from sklearn.feature_selection import SelectKBest, f_regression\n",
    "from sklearn.pipeline import Pipeline\n",
    "from skopt import BayesSearchCV\n",
    "from catboost import Pool, CatBoostRegressor\n",
    "from mlxtend.feature_selection import SequentialFeatureSelector as SFS\n",
    "import mlxtend\n",
    "from kneed import KneeLocator\n",
    "\n",
    "\n",
    "import os\n",
    "os.getcwd()"
   ]
  },
  {
   "cell_type": "markdown",
   "metadata": {
    "collapsed": true
   },
   "source": [
    "The \"wind_pickle\" file contains data in a binary format called \"Pickle\". Pickle data loads faster than text data."
   ]
  },
  {
   "cell_type": "code",
   "execution_count": 2,
   "metadata": {
    "scrolled": true
   },
   "outputs": [],
   "source": [
    "data = pd.read_pickle('wind_pickle.pickle')"
   ]
  },
  {
   "cell_type": "markdown",
   "metadata": {},
   "source": [
    "You can visualize the attributes in the dataset. Very important, the output attribute (i.e. the value to be predicted, **energy**, is the first attribute). **Steps** represents the hours in advance of the forecast. We will not use this variable here."
   ]
  },
  {
   "cell_type": "code",
   "execution_count": 3,
   "metadata": {},
   "outputs": [
    {
     "name": "stdout",
     "output_type": "stream",
     "text": [
      "(5937, 556)\n"
     ]
    }
   ],
   "source": [
    "# The dataset contains 5937 instances and 556 attributes (including \n",
    "# the outcome to be predicted)\n",
    "print(data.shape)\n",
    "#data.columns.values.tolist()"
   ]
  },
  {
   "cell_type": "markdown",
   "metadata": {
    "collapsed": true
   },
   "source": [
    "Below, data is going to be separated in train, validation, and test. Given that the use of Pandas dataframes is quite advanced, I am doing this for you:"
   ]
  },
  {
   "cell_type": "code",
   "execution_count": 4,
   "metadata": {
    "scrolled": true
   },
   "outputs": [],
   "source": [
    "indicesTrain = (np.where(data.year<=2006))[0]\n",
    "indicesVal = (np.where((data.year==2007) | (data.year==2008)))[0]\n",
    "indicesTest = (np.where(data.year>=2009))[0]"
   ]
  },
  {
   "cell_type": "markdown",
   "metadata": {},
   "source": [
    "Beware!, **indicesTrain** does not contain the training data, but the *indices* of the training data. For instance, the following cell means that training data is made of instance number 0, instance number 1, ..., up to instance number 2527. This will be important later."
   ]
  },
  {
   "cell_type": "code",
   "execution_count": 5,
   "metadata": {},
   "outputs": [
    {
     "data": {
      "text/plain": [
       "array([   0,    1,    2, ..., 2525, 2526, 2527], dtype=int64)"
      ]
     },
     "execution_count": 5,
     "metadata": {},
     "output_type": "execute_result"
    }
   ],
   "source": [
    "indicesTrain"
   ]
  },
  {
   "cell_type": "markdown",
   "metadata": {},
   "source": [
    "Now, we are going to transform **data**, which is a Pandas dataframe, to **ava**, which is a NumPy matrix. The reason is that Scikit-learn uses NumPy matrices, not Panda dataframes."
   ]
  },
  {
   "cell_type": "code",
   "execution_count": 6,
   "metadata": {},
   "outputs": [],
   "source": [
    "ava = data.values"
   ]
  },
  {
   "cell_type": "markdown",
   "metadata": {},
   "source": [
    "Now, **ava** is going to be decomposed into inputs **X** and outputs **y**. And then, into training, validation, and test. For instance, **Xava** and **yava** contain the input attributes, and the output attribute (**energy**) of the whole dataset. Please, ask yourself why the inputs use \"6:\" and the output use \"0\". **Xtrain** and **ytrain** are the same, but for the training dataset."
   ]
  },
  {
   "cell_type": "code",
   "execution_count": 7,
   "metadata": {},
   "outputs": [],
   "source": [
    "Xava = ava[:,6:]; yava = ava[:,0]\n",
    "Xtrain = ava[indicesTrain,6:]; ytrain = ava[indicesTrain,0]\n",
    "Xval = ava[indicesVal,6:]; yval = ava[indicesVal,0]\n",
    "Xtest = ava[indicesTest,6:]; ytest = ava[indicesTest,0]"
   ]
  },
  {
   "cell_type": "code",
   "execution_count": 8,
   "metadata": {},
   "outputs": [],
   "source": [
    "# We create a dataset with train and validation data\n",
    "indicesTrainAndVal = (np.where(data.year<=2008))[0]\n",
    "XtrainAndVal = ava[indicesTrainAndVal,6:]; ytrainAndVal = ava[indicesTrainAndVal,0]"
   ]
  },
  {
   "cell_type": "markdown",
   "metadata": {},
   "source": [
    "The following cell defines function **mae** (Mean Absolute Error), that we will use later to measure the accuracy of models."
   ]
  },
  {
   "cell_type": "code",
   "execution_count": 9,
   "metadata": {},
   "outputs": [],
   "source": [
    "def mae(yval_pred, yval):\n",
    "  val_mae = metrics.mean_absolute_error(yval_pred, yval)\n",
    "  return(val_mae)"
   ]
  },
  {
   "cell_type": "markdown",
   "metadata": {},
   "source": [
    "The following cell trains KNN with (Xtrain, ytrain) and evaluates it with (Xval, yval)."
   ]
  },
  {
   "cell_type": "code",
   "execution_count": 8,
   "metadata": {},
   "outputs": [
    {
     "name": "stdout",
     "output_type": "stream",
     "text": [
      "Wall time: 151 ms\n",
      "MAE for KNN with K=5 is 486.91141493456513\n"
     ]
    }
   ],
   "source": [
    "np.random.seed(0)\n",
    "\n",
    "n_neighbors = 5\n",
    "knn = neighbors.KNeighborsRegressor(n_neighbors, weights='uniform')\n",
    "%time _ = knn.fit(Xtrain, ytrain)\n",
    "yval_pred = knn.predict(Xval)\n",
    "\n",
    "print(\"MAE for KNN with K=5 is {}\".format(mae(yval_pred, yval)))"
   ]
  },
  {
   "cell_type": "code",
   "execution_count": 10,
   "metadata": {},
   "outputs": [
    {
     "name": "stdout",
     "output_type": "stream",
     "text": [
      "Help on class KNeighborsRegressor in sklearn.neighbors:\n",
      "\n",
      "sklearn.neighbors.KNeighborsRegressor = class KNeighborsRegressor(sklearn.neighbors.base.NeighborsBase, sklearn.neighbors.base.KNeighborsMixin, sklearn.neighbors.base.SupervisedFloatMixin, sklearn.base.RegressorMixin)\n",
      " |  sklearn.neighbors.KNeighborsRegressor(n_neighbors=5, weights='uniform', algorithm='auto', leaf_size=30, p=2, metric='minkowski', metric_params=None, n_jobs=1, **kwargs)\n",
      " |  \n",
      " |  Regression based on k-nearest neighbors.\n",
      " |  \n",
      " |  The target is predicted by local interpolation of the targets\n",
      " |  associated of the nearest neighbors in the training set.\n",
      " |  \n",
      " |  Read more in the :ref:`User Guide <regression>`.\n",
      " |  \n",
      " |  Parameters\n",
      " |  ----------\n",
      " |  n_neighbors : int, optional (default = 5)\n",
      " |      Number of neighbors to use by default for :meth:`kneighbors` queries.\n",
      " |  \n",
      " |  weights : str or callable\n",
      " |      weight function used in prediction.  Possible values:\n",
      " |  \n",
      " |      - 'uniform' : uniform weights.  All points in each neighborhood\n",
      " |        are weighted equally.\n",
      " |      - 'distance' : weight points by the inverse of their distance.\n",
      " |        in this case, closer neighbors of a query point will have a\n",
      " |        greater influence than neighbors which are further away.\n",
      " |      - [callable] : a user-defined function which accepts an\n",
      " |        array of distances, and returns an array of the same shape\n",
      " |        containing the weights.\n",
      " |  \n",
      " |      Uniform weights are used by default.\n",
      " |  \n",
      " |  algorithm : {'auto', 'ball_tree', 'kd_tree', 'brute'}, optional\n",
      " |      Algorithm used to compute the nearest neighbors:\n",
      " |  \n",
      " |      - 'ball_tree' will use :class:`BallTree`\n",
      " |      - 'kd_tree' will use :class:`KDTree`\n",
      " |      - 'brute' will use a brute-force search.\n",
      " |      - 'auto' will attempt to decide the most appropriate algorithm\n",
      " |        based on the values passed to :meth:`fit` method.\n",
      " |  \n",
      " |      Note: fitting on sparse input will override the setting of\n",
      " |      this parameter, using brute force.\n",
      " |  \n",
      " |  leaf_size : int, optional (default = 30)\n",
      " |      Leaf size passed to BallTree or KDTree.  This can affect the\n",
      " |      speed of the construction and query, as well as the memory\n",
      " |      required to store the tree.  The optimal value depends on the\n",
      " |      nature of the problem.\n",
      " |  \n",
      " |  p : integer, optional (default = 2)\n",
      " |      Power parameter for the Minkowski metric. When p = 1, this is\n",
      " |      equivalent to using manhattan_distance (l1), and euclidean_distance\n",
      " |      (l2) for p = 2. For arbitrary p, minkowski_distance (l_p) is used.\n",
      " |  \n",
      " |  metric : string or callable, default 'minkowski'\n",
      " |      the distance metric to use for the tree.  The default metric is\n",
      " |      minkowski, and with p=2 is equivalent to the standard Euclidean\n",
      " |      metric. See the documentation of the DistanceMetric class for a\n",
      " |      list of available metrics.\n",
      " |  \n",
      " |  metric_params : dict, optional (default = None)\n",
      " |      Additional keyword arguments for the metric function.\n",
      " |  \n",
      " |  n_jobs : int, optional (default = 1)\n",
      " |      The number of parallel jobs to run for neighbors search.\n",
      " |      If ``-1``, then the number of jobs is set to the number of CPU cores.\n",
      " |      Doesn't affect :meth:`fit` method.\n",
      " |  \n",
      " |  Examples\n",
      " |  --------\n",
      " |  >>> X = [[0], [1], [2], [3]]\n",
      " |  >>> y = [0, 0, 1, 1]\n",
      " |  >>> from sklearn.neighbors import KNeighborsRegressor\n",
      " |  >>> neigh = KNeighborsRegressor(n_neighbors=2)\n",
      " |  >>> neigh.fit(X, y) # doctest: +ELLIPSIS\n",
      " |  KNeighborsRegressor(...)\n",
      " |  >>> print(neigh.predict([[1.5]]))\n",
      " |  [ 0.5]\n",
      " |  \n",
      " |  See also\n",
      " |  --------\n",
      " |  NearestNeighbors\n",
      " |  RadiusNeighborsRegressor\n",
      " |  KNeighborsClassifier\n",
      " |  RadiusNeighborsClassifier\n",
      " |  \n",
      " |  Notes\n",
      " |  -----\n",
      " |  See :ref:`Nearest Neighbors <neighbors>` in the online documentation\n",
      " |  for a discussion of the choice of ``algorithm`` and ``leaf_size``.\n",
      " |  \n",
      " |  .. warning::\n",
      " |  \n",
      " |     Regarding the Nearest Neighbors algorithms, if it is found that two\n",
      " |     neighbors, neighbor `k+1` and `k`, have identical distances but\n",
      " |     different labels, the results will depend on the ordering of the\n",
      " |     training data.\n",
      " |  \n",
      " |  https://en.wikipedia.org/wiki/K-nearest_neighbor_algorithm\n",
      " |  \n",
      " |  Method resolution order:\n",
      " |      KNeighborsRegressor\n",
      " |      sklearn.neighbors.base.NeighborsBase\n",
      " |      abc.NewBase\n",
      " |      sklearn.base.BaseEstimator\n",
      " |      sklearn.neighbors.base.KNeighborsMixin\n",
      " |      sklearn.neighbors.base.SupervisedFloatMixin\n",
      " |      sklearn.base.RegressorMixin\n",
      " |      builtins.object\n",
      " |  \n",
      " |  Methods defined here:\n",
      " |  \n",
      " |  __init__(self, n_neighbors=5, weights='uniform', algorithm='auto', leaf_size=30, p=2, metric='minkowski', metric_params=None, n_jobs=1, **kwargs)\n",
      " |      Initialize self.  See help(type(self)) for accurate signature.\n",
      " |  \n",
      " |  predict(self, X)\n",
      " |      Predict the target for the provided data\n",
      " |      \n",
      " |      Parameters\n",
      " |      ----------\n",
      " |      X : array-like, shape (n_query, n_features),                 or (n_query, n_indexed) if metric == 'precomputed'\n",
      " |          Test samples.\n",
      " |      \n",
      " |      Returns\n",
      " |      -------\n",
      " |      y : array of int, shape = [n_samples] or [n_samples, n_outputs]\n",
      " |          Target values\n",
      " |  \n",
      " |  ----------------------------------------------------------------------\n",
      " |  Data and other attributes defined here:\n",
      " |  \n",
      " |  __abstractmethods__ = frozenset()\n",
      " |  \n",
      " |  ----------------------------------------------------------------------\n",
      " |  Methods inherited from sklearn.base.BaseEstimator:\n",
      " |  \n",
      " |  __getstate__(self)\n",
      " |  \n",
      " |  __repr__(self)\n",
      " |      Return repr(self).\n",
      " |  \n",
      " |  __setstate__(self, state)\n",
      " |  \n",
      " |  get_params(self, deep=True)\n",
      " |      Get parameters for this estimator.\n",
      " |      \n",
      " |      Parameters\n",
      " |      ----------\n",
      " |      deep : boolean, optional\n",
      " |          If True, will return the parameters for this estimator and\n",
      " |          contained subobjects that are estimators.\n",
      " |      \n",
      " |      Returns\n",
      " |      -------\n",
      " |      params : mapping of string to any\n",
      " |          Parameter names mapped to their values.\n",
      " |  \n",
      " |  set_params(self, **params)\n",
      " |      Set the parameters of this estimator.\n",
      " |      \n",
      " |      The method works on simple estimators as well as on nested objects\n",
      " |      (such as pipelines). The latter have parameters of the form\n",
      " |      ``<component>__<parameter>`` so that it's possible to update each\n",
      " |      component of a nested object.\n",
      " |      \n",
      " |      Returns\n",
      " |      -------\n",
      " |      self\n",
      " |  \n",
      " |  ----------------------------------------------------------------------\n",
      " |  Data descriptors inherited from sklearn.base.BaseEstimator:\n",
      " |  \n",
      " |  __dict__\n",
      " |      dictionary for instance variables (if defined)\n",
      " |  \n",
      " |  __weakref__\n",
      " |      list of weak references to the object (if defined)\n",
      " |  \n",
      " |  ----------------------------------------------------------------------\n",
      " |  Methods inherited from sklearn.neighbors.base.KNeighborsMixin:\n",
      " |  \n",
      " |  kneighbors(self, X=None, n_neighbors=None, return_distance=True)\n",
      " |      Finds the K-neighbors of a point.\n",
      " |      \n",
      " |      Returns indices of and distances to the neighbors of each point.\n",
      " |      \n",
      " |      Parameters\n",
      " |      ----------\n",
      " |      X : array-like, shape (n_query, n_features),                 or (n_query, n_indexed) if metric == 'precomputed'\n",
      " |          The query point or points.\n",
      " |          If not provided, neighbors of each indexed point are returned.\n",
      " |          In this case, the query point is not considered its own neighbor.\n",
      " |      \n",
      " |      n_neighbors : int\n",
      " |          Number of neighbors to get (default is the value\n",
      " |          passed to the constructor).\n",
      " |      \n",
      " |      return_distance : boolean, optional. Defaults to True.\n",
      " |          If False, distances will not be returned\n",
      " |      \n",
      " |      Returns\n",
      " |      -------\n",
      " |      dist : array\n",
      " |          Array representing the lengths to points, only present if\n",
      " |          return_distance=True\n",
      " |      \n",
      " |      ind : array\n",
      " |          Indices of the nearest points in the population matrix.\n",
      " |      \n",
      " |      Examples\n",
      " |      --------\n",
      " |      In the following example, we construct a NeighborsClassifier\n",
      " |      class from an array representing our data set and ask who's\n",
      " |      the closest point to [1,1,1]\n",
      " |      \n",
      " |      >>> samples = [[0., 0., 0.], [0., .5, 0.], [1., 1., .5]]\n",
      " |      >>> from sklearn.neighbors import NearestNeighbors\n",
      " |      >>> neigh = NearestNeighbors(n_neighbors=1)\n",
      " |      >>> neigh.fit(samples) # doctest: +ELLIPSIS\n",
      " |      NearestNeighbors(algorithm='auto', leaf_size=30, ...)\n",
      " |      >>> print(neigh.kneighbors([[1., 1., 1.]])) # doctest: +ELLIPSIS\n",
      " |      (array([[ 0.5]]), array([[2]]...))\n",
      " |      \n",
      " |      As you can see, it returns [[0.5]], and [[2]], which means that the\n",
      " |      element is at distance 0.5 and is the third element of samples\n",
      " |      (indexes start at 0). You can also query for multiple points:\n",
      " |      \n",
      " |      >>> X = [[0., 1., 0.], [1., 0., 1.]]\n",
      " |      >>> neigh.kneighbors(X, return_distance=False) # doctest: +ELLIPSIS\n",
      " |      array([[1],\n",
      " |             [2]]...)\n",
      " |  \n",
      " |  kneighbors_graph(self, X=None, n_neighbors=None, mode='connectivity')\n",
      " |      Computes the (weighted) graph of k-Neighbors for points in X\n",
      " |      \n",
      " |      Parameters\n",
      " |      ----------\n",
      " |      X : array-like, shape (n_query, n_features),                 or (n_query, n_indexed) if metric == 'precomputed'\n",
      " |          The query point or points.\n",
      " |          If not provided, neighbors of each indexed point are returned.\n",
      " |          In this case, the query point is not considered its own neighbor.\n",
      " |      \n",
      " |      n_neighbors : int\n",
      " |          Number of neighbors for each sample.\n",
      " |          (default is value passed to the constructor).\n",
      " |      \n",
      " |      mode : {'connectivity', 'distance'}, optional\n",
      " |          Type of returned matrix: 'connectivity' will return the\n",
      " |          connectivity matrix with ones and zeros, in 'distance' the\n",
      " |          edges are Euclidean distance between points.\n",
      " |      \n",
      " |      Returns\n",
      " |      -------\n",
      " |      A : sparse matrix in CSR format, shape = [n_samples, n_samples_fit]\n",
      " |          n_samples_fit is the number of samples in the fitted data\n",
      " |          A[i, j] is assigned the weight of edge that connects i to j.\n",
      " |      \n",
      " |      Examples\n",
      " |      --------\n",
      " |      >>> X = [[0], [3], [1]]\n",
      " |      >>> from sklearn.neighbors import NearestNeighbors\n",
      " |      >>> neigh = NearestNeighbors(n_neighbors=2)\n",
      " |      >>> neigh.fit(X) # doctest: +ELLIPSIS\n",
      " |      NearestNeighbors(algorithm='auto', leaf_size=30, ...)\n",
      " |      >>> A = neigh.kneighbors_graph(X)\n",
      " |      >>> A.toarray()\n",
      " |      array([[ 1.,  0.,  1.],\n",
      " |             [ 0.,  1.,  1.],\n",
      " |             [ 1.,  0.,  1.]])\n",
      " |      \n",
      " |      See also\n",
      " |      --------\n",
      " |      NearestNeighbors.radius_neighbors_graph\n",
      " |  \n",
      " |  ----------------------------------------------------------------------\n",
      " |  Methods inherited from sklearn.neighbors.base.SupervisedFloatMixin:\n",
      " |  \n",
      " |  fit(self, X, y)\n",
      " |      Fit the model using X as training data and y as target values\n",
      " |      \n",
      " |      Parameters\n",
      " |      ----------\n",
      " |      X : {array-like, sparse matrix, BallTree, KDTree}\n",
      " |          Training data. If array or matrix, shape [n_samples, n_features],\n",
      " |          or [n_samples, n_samples] if metric='precomputed'.\n",
      " |      \n",
      " |      y : {array-like, sparse matrix}\n",
      " |          Target values, array of float values, shape = [n_samples]\n",
      " |           or [n_samples, n_outputs]\n",
      " |  \n",
      " |  ----------------------------------------------------------------------\n",
      " |  Methods inherited from sklearn.base.RegressorMixin:\n",
      " |  \n",
      " |  score(self, X, y, sample_weight=None)\n",
      " |      Returns the coefficient of determination R^2 of the prediction.\n",
      " |      \n",
      " |      The coefficient R^2 is defined as (1 - u/v), where u is the residual\n",
      " |      sum of squares ((y_true - y_pred) ** 2).sum() and v is the total\n",
      " |      sum of squares ((y_true - y_true.mean()) ** 2).sum().\n",
      " |      The best possible score is 1.0 and it can be negative (because the\n",
      " |      model can be arbitrarily worse). A constant model that always\n",
      " |      predicts the expected value of y, disregarding the input features,\n",
      " |      would get a R^2 score of 0.0.\n",
      " |      \n",
      " |      Parameters\n",
      " |      ----------\n",
      " |      X : array-like, shape = (n_samples, n_features)\n",
      " |          Test samples.\n",
      " |      \n",
      " |      y : array-like, shape = (n_samples) or (n_samples, n_outputs)\n",
      " |          True values for X.\n",
      " |      \n",
      " |      sample_weight : array-like, shape = [n_samples], optional\n",
      " |          Sample weights.\n",
      " |      \n",
      " |      Returns\n",
      " |      -------\n",
      " |      score : float\n",
      " |          R^2 of self.predict(X) wrt. y.\n",
      "\n"
     ]
    }
   ],
   "source": [
    "# In case you need help for KNN\n",
    "help('sklearn.neighbors.KNeighborsRegressor')"
   ]
  },
  {
   "cell_type": "markdown",
   "metadata": {},
   "source": [
    "The following cell, does hyper-parameter tuning for parameter K (n_neighbors), from 1 to 4 by 1. Please, notice that with **partitions = [(indicesTrain, indicesVal)]** we are telling **gridSearch** to use the training dataset for training the different models with the different parameters, and the validation dataset for testing. Notice that this is different to other notebooks, where crossvalidation was used for this purpose. "
   ]
  },
  {
   "cell_type": "code",
   "execution_count": 9,
   "metadata": {},
   "outputs": [
    {
     "name": "stdout",
     "output_type": "stream",
     "text": [
      "Wall time: 4.21 s\n"
     ]
    }
   ],
   "source": [
    "np.random.seed(0)\n",
    "\n",
    "param_grid = {'n_neighbors': list(range(1,4,1))}\n",
    "\n",
    "partitions = [(indicesTrain, indicesVal)]\n",
    "\n",
    "clf = GridSearchCV(neighbors.KNeighborsRegressor(), \n",
    "                   param_grid,\n",
    "                   scoring='neg_mean_absolute_error',\n",
    "                   cv=partitions , verbose=0)\n",
    "%time _ = clf.fit(Xava,yava)"
   ]
  },
  {
   "cell_type": "markdown",
   "metadata": {},
   "source": [
    "Next, we show the best K parameter and the MAE of the final model built with the best parameter."
   ]
  },
  {
   "cell_type": "code",
   "execution_count": 10,
   "metadata": {},
   "outputs": [
    {
     "name": "stdout",
     "output_type": "stream",
     "text": [
      "Best K: {'n_neighbors': 3} and MAE for best K: 503.71169104439315\n"
     ]
    }
   ],
   "source": [
    "print(\"Best K: {} and MAE for best K: {}\".format(clf.best_params_, -clf.best_score_))"
   ]
  },
  {
   "cell_type": "markdown",
   "metadata": {},
   "source": [
    "# 1. HOW LONG DOES IT TAKE?"
   ]
  },
  {
   "cell_type": "markdown",
   "metadata": {},
   "source": [
    "It is always a good idea to have some estimation of how long your machine learning algorithm is going to take. In the next two cells, try to estimate how many seconds KNN (with K=3) does it take, with only **100 instances**. With 6000 instances, it will take approximately 60 times that number. You can use **%time** for timing, as in previous cells."
   ]
  },
  {
   "cell_type": "code",
   "execution_count": 11,
   "metadata": {},
   "outputs": [
    {
     "name": "stdout",
     "output_type": "stream",
     "text": [
      "Wall time: 2.01 ms\n"
     ]
    }
   ],
   "source": [
    "np.random.seed(0)\n",
    "\n",
    "n_neighbors = 3\n",
    "knn = neighbors.KNeighborsRegressor(n_neighbors, weights='uniform')\n",
    "%time _ = knn.fit(Xtrain[0:100,], ytrain[0:100])"
   ]
  },
  {
   "cell_type": "markdown",
   "metadata": {},
   "source": [
    "Please, do the same for Decision trees with default parameters"
   ]
  },
  {
   "cell_type": "code",
   "execution_count": 12,
   "metadata": {},
   "outputs": [
    {
     "name": "stdout",
     "output_type": "stream",
     "text": [
      "Wall time: 29.1 ms\n"
     ]
    }
   ],
   "source": [
    "np.random.seed(0)\n",
    "\n",
    "method_tree = tree.DecisionTreeRegressor()\n",
    "%time _ = method_tree.fit(Xtrain[0:100,], ytrain[0:100])"
   ]
  },
  {
   "cell_type": "markdown",
   "metadata": {},
   "source": [
    "# 2. MODEL SELECTION AND HYPER-PARAMETER TUNING"
   ]
  },
  {
   "cell_type": "markdown",
   "metadata": {},
   "source": [
    "Train a KNN model with default hiper-parameters"
   ]
  },
  {
   "cell_type": "code",
   "execution_count": 13,
   "metadata": {},
   "outputs": [
    {
     "name": "stdout",
     "output_type": "stream",
     "text": [
      "MAE for KNN default is 486.91141493456513\n"
     ]
    }
   ],
   "source": [
    "np.random.seed(0)\n",
    "\n",
    "knn = neighbors.KNeighborsRegressor()\n",
    "model_knn = knn.fit(Xtrain, ytrain)\n",
    "knn_pred = model_knn.predict(Xval)\n",
    "print(\"MAE for KNN default is {}\".format(mae(knn_pred, yval)))"
   ]
  },
  {
   "cell_type": "markdown",
   "metadata": {},
   "source": [
    "Do hyper-parameter tuning for KNN. Can you improve results? Note: I will specially value if you use model based optimization (**skopt**). If not possible, use **Randomized Search** instead."
   ]
  },
  {
   "cell_type": "code",
   "execution_count": 14,
   "metadata": {},
   "outputs": [
    {
     "name": "stdout",
     "output_type": "stream",
     "text": [
      "Best Bayes search K: {'n_neighbors': 17} and MAE for best K: 469.78749943395366\n"
     ]
    }
   ],
   "source": [
    "# Hyper-parameter tuning --> Bayesian Optimization\n",
    "np.random.seed(0)\n",
    "\n",
    "param_knn_bayes_grid = {'n_neighbors': (1,20)}\n",
    "budget = 10\n",
    "method_knn_bayes = BayesSearchCV(\n",
    "        neighbors.KNeighborsRegressor(), \n",
    "        param_knn_bayes_grid, \n",
    "        scoring='neg_mean_absolute_error',\n",
    "        refit = False,\n",
    "        cv = partitions, \n",
    "        n_jobs =1, \n",
    "        verbose = 0,\n",
    "        n_iter = budget\n",
    ")\n",
    "\n",
    "model_knn_bayes = method_knn_bayes.fit(Xava, yava)\n",
    "print(\"Best Bayes search K: {} and MAE for best K: {}\".format(model_knn_bayes.best_params_, \n",
    "                                                              -model_knn_bayes.best_score_))"
   ]
  },
  {
   "cell_type": "code",
   "execution_count": 15,
   "metadata": {},
   "outputs": [
    {
     "name": "stdout",
     "output_type": "stream",
     "text": [
      "MAE for KNN final is 511.40569863395604\n"
     ]
    }
   ],
   "source": [
    "#The final knn model is going to be trained with train and validation\n",
    "#datasets in order to obtain the final performance over the test partition\n",
    "np.random.seed(0)\n",
    "\n",
    "knn_final = neighbors.KNeighborsRegressor()\n",
    "knn_final.set_params(**model_knn_bayes.best_params_)\n",
    "model_knn_final = knn_final.fit(XtrainAndVal, ytrainAndVal)\n",
    "model_knn_final_test_pred = model_knn_final.predict(Xtest)\n",
    "print(\"MAE for KNN final is {}\".format(mae(model_knn_final_test_pred, ytest)))"
   ]
  },
  {
   "cell_type": "markdown",
   "metadata": {},
   "source": [
    "Train a decision tree for regression with default hiper-parameters"
   ]
  },
  {
   "cell_type": "code",
   "execution_count": 17,
   "metadata": {},
   "outputs": [
    {
     "name": "stdout",
     "output_type": "stream",
     "text": [
      "MAE for DecisionTree default is 371.82943033102384\n"
     ]
    }
   ],
   "source": [
    "np.random.seed(0)\n",
    "\n",
    "method_tree = tree.DecisionTreeRegressor()\n",
    "model_tree = method_tree.fit(Xtrain, ytrain)\n",
    "tree_pred = model_tree.predict(Xval)\n",
    "print(\"MAE for DecisionTree default is {}\".format(mae(tree_pred, yval)))"
   ]
  },
  {
   "cell_type": "markdown",
   "metadata": {},
   "source": [
    "Do hyper-parameter tuning for Decision trees. Can you improve results?"
   ]
  },
  {
   "cell_type": "code",
   "execution_count": 17,
   "metadata": {},
   "outputs": [
    {
     "name": "stderr",
     "output_type": "stream",
     "text": [
      "C:\\Users\\toni3\\Anaconda3\\lib\\site-packages\\skopt\\optimizer\\optimizer.py:399: UserWarning: The objective has been evaluated at this point before.\n",
      "  warnings.warn(\"The objective has been evaluated \"\n",
      "C:\\Users\\toni3\\Anaconda3\\lib\\site-packages\\skopt\\optimizer\\optimizer.py:399: UserWarning: The objective has been evaluated at this point before.\n",
      "  warnings.warn(\"The objective has been evaluated \"\n",
      "C:\\Users\\toni3\\Anaconda3\\lib\\site-packages\\skopt\\optimizer\\optimizer.py:399: UserWarning: The objective has been evaluated at this point before.\n",
      "  warnings.warn(\"The objective has been evaluated \"\n"
     ]
    },
    {
     "name": "stdout",
     "output_type": "stream",
     "text": [
      "Best Bayes search max_depth, min_samples_split: {'max_depth': 6, 'min_samples_split': 81} and MAE for best Decision tree: 303.7726118568905\n",
      "MAE for Decision Tree final is 310.9637342803766\n"
     ]
    }
   ],
   "source": [
    "# Hyper-parameter tuning --> Bayesian Optimization\n",
    "np.random.seed(0)\n",
    "\n",
    "#In spite of the different hyper-parameters for a decision tree (max_depth, min_samples_split, max_features, min_samples_leaf),\n",
    "#only max_depth and min_samples_split are used because of the academic goal of this study\n",
    "param_tree_bayes_grid = {'max_depth': (2,30),\n",
    "                         'min_samples_split': (2,100)\n",
    "}\n",
    "budget = 40\n",
    "method_tree_bayes = BayesSearchCV(\n",
    "        tree.DecisionTreeRegressor(), \n",
    "        param_tree_bayes_grid, \n",
    "        scoring='neg_mean_absolute_error',\n",
    "        refit = False,\n",
    "        cv = partitions, \n",
    "        n_jobs =1, \n",
    "        verbose = 0,\n",
    "        n_iter = budget\n",
    ")\n",
    "\n",
    "model_tree_bayes = method_tree_bayes.fit(Xava, yava)\n",
    "print(\"Best Bayes search max_depth, min_samples_split: {} \\\n",
    "and MAE for best Decision tree: {}\".format(model_tree_bayes.best_params_, -model_tree_bayes.best_score_))\n",
    "\n",
    "tree_final = tree.DecisionTreeRegressor()\n",
    "tree_final.set_params(**model_tree_bayes.best_params_)\n",
    "model_tree_final = tree_final.fit(XtrainAndVal, ytrainAndVal)\n",
    "model_tree_final_test_pred = model_tree_final.predict(Xtest)\n",
    "print(\"MAE for Decision Tree final is {}\".format(mae(model_tree_final_test_pred, ytest)))\n"
   ]
  },
  {
   "cell_type": "markdown",
   "metadata": {},
   "source": [
    "Train a Random Forest (RF) with default parameters. A RF is an ensemble technique based on Decision Trees, but instead of training just a single decision tree, it trains many of them and then computes the average of the outputs. Please, bear in mind that a RF with default parameters involves training 100 trees. You can estimate by hand how long it is going to take, and if it is excessive, you can lower the number of decision trees in the ensemble. "
   ]
  },
  {
   "cell_type": "code",
   "execution_count": 19,
   "metadata": {},
   "outputs": [
    {
     "name": "stdout",
     "output_type": "stream",
     "text": [
      "MAE for Random Forest default is 287.27191993841416\n"
     ]
    }
   ],
   "source": [
    "np.random.seed(0)\n",
    "\n",
    "rf = RandomForestRegressor()\n",
    "model_rf = rf.fit(Xtrain, ytrain)\n",
    "rf_pred = model_rf.predict(Xval)\n",
    "print(\"MAE for Random Forest default is {}\".format(mae(rf_pred, yval)))"
   ]
  },
  {
   "cell_type": "markdown",
   "metadata": {},
   "source": [
    "Do hyper-parameter tuning for Random Forests. Their main hyper-parameter is **n_estimators**, which is the number of decision trees in the ensemble. Check some values around the default value (like, 50, 100, 150, ...). Please, bear in mind this is going to take time ... In case you want to use other hyper-parameters, please ask the teacher."
   ]
  },
  {
   "cell_type": "code",
   "execution_count": 26,
   "metadata": {
    "scrolled": true
   },
   "outputs": [
    {
     "name": "stderr",
     "output_type": "stream",
     "text": [
      "C:\\Users\\toni3\\Anaconda3\\lib\\site-packages\\skopt\\optimizer\\optimizer.py:399: UserWarning: The objective has been evaluated at this point before.\n",
      "  warnings.warn(\"The objective has been evaluated \"\n",
      "C:\\Users\\toni3\\Anaconda3\\lib\\site-packages\\skopt\\optimizer\\optimizer.py:399: UserWarning: The objective has been evaluated at this point before.\n",
      "  warnings.warn(\"The objective has been evaluated \"\n",
      "C:\\Users\\toni3\\Anaconda3\\lib\\site-packages\\skopt\\optimizer\\optimizer.py:399: UserWarning: The objective has been evaluated at this point before.\n",
      "  warnings.warn(\"The objective has been evaluated \"\n",
      "C:\\Users\\toni3\\Anaconda3\\lib\\site-packages\\skopt\\optimizer\\optimizer.py:399: UserWarning: The objective has been evaluated at this point before.\n",
      "  warnings.warn(\"The objective has been evaluated \"\n",
      "C:\\Users\\toni3\\Anaconda3\\lib\\site-packages\\skopt\\optimizer\\optimizer.py:399: UserWarning: The objective has been evaluated at this point before.\n",
      "  warnings.warn(\"The objective has been evaluated \"\n",
      "C:\\Users\\toni3\\Anaconda3\\lib\\site-packages\\skopt\\optimizer\\optimizer.py:399: UserWarning: The objective has been evaluated at this point before.\n",
      "  warnings.warn(\"The objective has been evaluated \"\n",
      "C:\\Users\\toni3\\Anaconda3\\lib\\site-packages\\skopt\\optimizer\\optimizer.py:399: UserWarning: The objective has been evaluated at this point before.\n",
      "  warnings.warn(\"The objective has been evaluated \"\n",
      "C:\\Users\\toni3\\Anaconda3\\lib\\site-packages\\skopt\\optimizer\\optimizer.py:399: UserWarning: The objective has been evaluated at this point before.\n",
      "  warnings.warn(\"The objective has been evaluated \"\n",
      "C:\\Users\\toni3\\Anaconda3\\lib\\site-packages\\skopt\\optimizer\\optimizer.py:399: UserWarning: The objective has been evaluated at this point before.\n",
      "  warnings.warn(\"The objective has been evaluated \"\n",
      "C:\\Users\\toni3\\Anaconda3\\lib\\site-packages\\skopt\\optimizer\\optimizer.py:399: UserWarning: The objective has been evaluated at this point before.\n",
      "  warnings.warn(\"The objective has been evaluated \"\n",
      "C:\\Users\\toni3\\Anaconda3\\lib\\site-packages\\skopt\\optimizer\\optimizer.py:399: UserWarning: The objective has been evaluated at this point before.\n",
      "  warnings.warn(\"The objective has been evaluated \"\n",
      "C:\\Users\\toni3\\Anaconda3\\lib\\site-packages\\skopt\\optimizer\\optimizer.py:399: UserWarning: The objective has been evaluated at this point before.\n",
      "  warnings.warn(\"The objective has been evaluated \"\n",
      "C:\\Users\\toni3\\Anaconda3\\lib\\site-packages\\skopt\\optimizer\\optimizer.py:399: UserWarning: The objective has been evaluated at this point before.\n",
      "  warnings.warn(\"The objective has been evaluated \"\n",
      "C:\\Users\\toni3\\Anaconda3\\lib\\site-packages\\skopt\\optimizer\\optimizer.py:399: UserWarning: The objective has been evaluated at this point before.\n",
      "  warnings.warn(\"The objective has been evaluated \"\n",
      "C:\\Users\\toni3\\Anaconda3\\lib\\site-packages\\skopt\\optimizer\\optimizer.py:399: UserWarning: The objective has been evaluated at this point before.\n",
      "  warnings.warn(\"The objective has been evaluated \"\n",
      "C:\\Users\\toni3\\Anaconda3\\lib\\site-packages\\skopt\\optimizer\\optimizer.py:399: UserWarning: The objective has been evaluated at this point before.\n",
      "  warnings.warn(\"The objective has been evaluated \"\n",
      "C:\\Users\\toni3\\Anaconda3\\lib\\site-packages\\skopt\\optimizer\\optimizer.py:399: UserWarning: The objective has been evaluated at this point before.\n",
      "  warnings.warn(\"The objective has been evaluated \"\n",
      "C:\\Users\\toni3\\Anaconda3\\lib\\site-packages\\skopt\\optimizer\\optimizer.py:399: UserWarning: The objective has been evaluated at this point before.\n",
      "  warnings.warn(\"The objective has been evaluated \"\n",
      "C:\\Users\\toni3\\Anaconda3\\lib\\site-packages\\skopt\\optimizer\\optimizer.py:399: UserWarning: The objective has been evaluated at this point before.\n",
      "  warnings.warn(\"The objective has been evaluated \"\n",
      "C:\\Users\\toni3\\Anaconda3\\lib\\site-packages\\skopt\\optimizer\\optimizer.py:399: UserWarning: The objective has been evaluated at this point before.\n",
      "  warnings.warn(\"The objective has been evaluated \"\n",
      "C:\\Users\\toni3\\Anaconda3\\lib\\site-packages\\skopt\\optimizer\\optimizer.py:399: UserWarning: The objective has been evaluated at this point before.\n",
      "  warnings.warn(\"The objective has been evaluated \"\n",
      "C:\\Users\\toni3\\Anaconda3\\lib\\site-packages\\skopt\\optimizer\\optimizer.py:399: UserWarning: The objective has been evaluated at this point before.\n",
      "  warnings.warn(\"The objective has been evaluated \"\n",
      "C:\\Users\\toni3\\Anaconda3\\lib\\site-packages\\skopt\\optimizer\\optimizer.py:399: UserWarning: The objective has been evaluated at this point before.\n",
      "  warnings.warn(\"The objective has been evaluated \"\n"
     ]
    },
    {
     "name": "stdout",
     "output_type": "stream",
     "text": [
      "Best Bayes search n_estimator: {'n_estimators': 200} and MAE for best Random Forest: 274.8996147806004\n",
      "MAE for Random Forest final is 283.42557500000004\n"
     ]
    }
   ],
   "source": [
    "# Hyper-parameter tuning --> Bayesian Optimization\n",
    "np.random.seed(0)\n",
    "\n",
    "param_rf_bayes_grid = {'n_estimators': (5,200)\n",
    "}\n",
    "budget = 40\n",
    "rf_bayes = BayesSearchCV(\n",
    "        RandomForestRegressor(), \n",
    "        param_rf_bayes_grid, \n",
    "        scoring='neg_mean_absolute_error',\n",
    "        refit = False,\n",
    "        cv = partitions, \n",
    "        n_jobs =1, \n",
    "        verbose = 0,\n",
    "        n_iter = budget\n",
    ")\n",
    "\n",
    "model_rf_bayes = rf_bayes.fit(Xava, yava)\n",
    "print(\"Best Bayes search n_estimator: {} and MAE for best Random Forest: {}\".format(model_rf_bayes.best_params_,\n",
    "                                                                                    -model_rf_bayes.best_score_))\n",
    "\n",
    "rf_final = RandomForestRegressor()\n",
    "rf_final.set_params(**model_rf_bayes.best_params_)\n",
    "model_rf_final = rf_final.fit(XtrainAndVal, ytrainAndVal)\n",
    "model_rf_final_test_pred = model_rf_final.predict(Xtest)\n",
    "print(\"MAE for Random Forest final is {}\".format(mae(model_rf_final_test_pred, ytest)))"
   ]
  },
  {
   "cell_type": "markdown",
   "metadata": {},
   "source": [
    "Train a Gradient Tree Boosting (GB) with default parameters. A GB is also an ensemble technique based on Decision Trees. In this case, the second decision tree tries to fix the mistakes of the first decision tree. The third decision tree tries to fix the mistakes of the first two decision trees. An so on.\n",
    "\n",
    "Please, bear in mind that a GB with default parameters involves training 100 trees. You can estimate by hand how long it is going to take, and if it is excessive, you can lower the number of decision trees in the ensemble. "
   ]
  },
  {
   "cell_type": "code",
   "execution_count": 21,
   "metadata": {},
   "outputs": [
    {
     "name": "stdout",
     "output_type": "stream",
     "text": [
      "MAE for Gradient Boosting default is 280.82732452932765\n"
     ]
    }
   ],
   "source": [
    "np.random.seed(0)\n",
    "\n",
    "gb = GradientBoostingRegressor()\n",
    "model_gb = gb.fit(Xtrain, ytrain)\n",
    "gb_pred = model_gb.predict(Xval)\n",
    "print(\"MAE for Gradient Boosting default is {}\".format(mae(gb_pred, yval)))"
   ]
  },
  {
   "cell_type": "markdown",
   "metadata": {},
   "source": [
    "Do hyper-parameter tuning for Gradient Boosting. Their main hyper-parameter is **n_estimators**, which is the number of decision trees in the ensemble. Check some values around the default value (like, 50, 100, 150, ...). Please, bear in mind this is going to take time ... In case you want to use other hyper-parameters, please ask the teacher."
   ]
  },
  {
   "cell_type": "code",
   "execution_count": 27,
   "metadata": {},
   "outputs": [
    {
     "name": "stderr",
     "output_type": "stream",
     "text": [
      "C:\\Users\\toni3\\Anaconda3\\lib\\site-packages\\skopt\\optimizer\\optimizer.py:399: UserWarning: The objective has been evaluated at this point before.\n",
      "  warnings.warn(\"The objective has been evaluated \"\n",
      "C:\\Users\\toni3\\Anaconda3\\lib\\site-packages\\skopt\\optimizer\\optimizer.py:399: UserWarning: The objective has been evaluated at this point before.\n",
      "  warnings.warn(\"The objective has been evaluated \"\n",
      "C:\\Users\\toni3\\Anaconda3\\lib\\site-packages\\skopt\\optimizer\\optimizer.py:399: UserWarning: The objective has been evaluated at this point before.\n",
      "  warnings.warn(\"The objective has been evaluated \"\n",
      "C:\\Users\\toni3\\Anaconda3\\lib\\site-packages\\skopt\\optimizer\\optimizer.py:399: UserWarning: The objective has been evaluated at this point before.\n",
      "  warnings.warn(\"The objective has been evaluated \"\n",
      "C:\\Users\\toni3\\Anaconda3\\lib\\site-packages\\skopt\\optimizer\\optimizer.py:399: UserWarning: The objective has been evaluated at this point before.\n",
      "  warnings.warn(\"The objective has been evaluated \"\n",
      "C:\\Users\\toni3\\Anaconda3\\lib\\site-packages\\skopt\\optimizer\\optimizer.py:399: UserWarning: The objective has been evaluated at this point before.\n",
      "  warnings.warn(\"The objective has been evaluated \"\n"
     ]
    },
    {
     "name": "stdout",
     "output_type": "stream",
     "text": [
      "Best Bayes search n_estimator: {'n_estimators': 133} and MAE for best Gradient Boosting: 278.5243999140768\n",
      "MAE for Gradient Boosting final is 289.59716170662733\n"
     ]
    }
   ],
   "source": [
    "np.random.seed(0)\n",
    "param_gb_bayes_grid = {'n_estimators': (50,200)\n",
    "}\n",
    "budget = 40\n",
    "method_gb_bayes = BayesSearchCV(\n",
    "        GradientBoostingRegressor(), \n",
    "        param_gb_bayes_grid, \n",
    "        scoring='neg_mean_absolute_error',\n",
    "        refit = False,\n",
    "        cv = partitions, \n",
    "        n_jobs =1, \n",
    "        verbose = 0,\n",
    "        n_iter = budget\n",
    ")\n",
    "\n",
    "model_gb_bayes = method_gb_bayes.fit(Xava, yava)\n",
    "print(\"Best Bayes search n_estimator: {} and MAE for best Gradient Boosting: {}\".format(model_gb_bayes.best_params_,\n",
    "                                                                                        -model_gb_bayes.best_score_))\n",
    "\n",
    "gb_final = GradientBoostingRegressor()\n",
    "gb_final.set_params(**model_gb_bayes.best_params_)\n",
    "model_gb_final = gb_final.fit(XtrainAndVal, ytrainAndVal)\n",
    "model_gb_final_test_pred = model_gb_final.predict(Xtest)\n",
    "print(\"MAE for Gradient Boosting final is {}\".format(mae(model_gb_final_test_pred, ytest)))"
   ]
  },
  {
   "cell_type": "markdown",
   "metadata": {},
   "source": [
    "We will try now with a more powerful implementation of GB: CatBoost (this implementation is specific for categorical data, but the library XGBoost did not work properly on our personal laptops, and CatBoost also performs well on numeric data). Due to the computational time of CatBoost we had to use a very low number of estimators. Then, the final performance is poor. However, we know it is powerful and should compete with Random Forest and the scikit implementation of Gradient Boosting Machine."
   ]
  },
  {
   "cell_type": "code",
   "execution_count": 12,
   "metadata": {},
   "outputs": [
    {
     "name": "stdout",
     "output_type": "stream",
     "text": [
      "0:\tlearn: 926.2647360\ttotal: 772ms\tremaining: 6.95s\n",
      "1:\tlearn: 906.3758016\ttotal: 1.23s\tremaining: 4.9s\n",
      "2:\tlearn: 886.3932667\ttotal: 1.65s\tremaining: 3.85s\n",
      "3:\tlearn: 867.4944761\ttotal: 2.1s\tremaining: 3.15s\n",
      "4:\tlearn: 848.7492804\ttotal: 2.52s\tremaining: 2.52s\n",
      "5:\tlearn: 830.6348224\ttotal: 2.97s\tremaining: 1.98s\n",
      "6:\tlearn: 813.3819569\ttotal: 3.39s\tremaining: 1.45s\n",
      "7:\tlearn: 796.6452840\ttotal: 3.83s\tremaining: 958ms\n",
      "8:\tlearn: 780.2373449\ttotal: 4.28s\tremaining: 475ms\n",
      "9:\tlearn: 764.5699727\ttotal: 4.73s\tremaining: 0us\n",
      "MAE forXGBoost default is 563.3728300381824\n"
     ]
    }
   ],
   "source": [
    "model = CatBoostRegressor(iterations=10)\n",
    "model.fit(Xtrain, ytrain)\n",
    "preds = model.predict(Xval)\n",
    "print(\"MAE forXGBoost default is {}\".format(mae(preds, yval)))"
   ]
  },
  {
   "cell_type": "code",
   "execution_count": 13,
   "metadata": {},
   "outputs": [
    {
     "name": "stdout",
     "output_type": "stream",
     "text": [
      "0:\tlearn: 926.2647360\ttotal: 595ms\tremaining: 2.97s\n",
      "1:\tlearn: 906.3758016\ttotal: 1.03s\tremaining: 2.07s\n",
      "2:\tlearn: 886.3932667\ttotal: 1.47s\tremaining: 1.47s\n",
      "3:\tlearn: 867.4944761\ttotal: 1.91s\tremaining: 957ms\n",
      "4:\tlearn: 848.7492804\ttotal: 2.35s\tremaining: 469ms\n",
      "5:\tlearn: 830.6348224\ttotal: 2.79s\tremaining: 0us\n",
      "0:\tlearn: 926.2647360\ttotal: 560ms\tremaining: 1.12s\n",
      "1:\tlearn: 906.3758016\ttotal: 996ms\tremaining: 498ms\n",
      "2:\tlearn: 886.3932667\ttotal: 1.41s\tremaining: 0us\n",
      "0:\tlearn: 926.2647360\ttotal: 573ms\tremaining: 2.87s\n",
      "1:\tlearn: 906.3758016\ttotal: 998ms\tremaining: 2s\n",
      "2:\tlearn: 886.3932667\ttotal: 1.42s\tremaining: 1.42s\n",
      "3:\tlearn: 867.4944761\ttotal: 1.86s\tremaining: 929ms\n",
      "4:\tlearn: 848.7492804\ttotal: 2.28s\tremaining: 455ms\n",
      "5:\tlearn: 830.6348224\ttotal: 2.76s\tremaining: 0us\n",
      "0:\tlearn: 926.2647360\ttotal: 570ms\tremaining: 570ms\n",
      "1:\tlearn: 906.3758016\ttotal: 1s\tremaining: 0us\n",
      "0:\tlearn: 926.2647360\ttotal: 608ms\tremaining: 1.22s\n",
      "1:\tlearn: 906.3758016\ttotal: 1.05s\tremaining: 524ms\n",
      "2:\tlearn: 886.3932667\ttotal: 1.54s\tremaining: 0us\n",
      "0:\tlearn: 926.2647360\ttotal: 554ms\tremaining: 4.43s\n",
      "1:\tlearn: 906.3758016\ttotal: 989ms\tremaining: 3.46s\n",
      "2:\tlearn: 886.3932667\ttotal: 1.41s\tremaining: 2.83s\n",
      "3:\tlearn: 867.4944761\ttotal: 1.87s\tremaining: 2.34s\n",
      "4:\tlearn: 848.7492804\ttotal: 2.3s\tremaining: 1.84s\n",
      "5:\tlearn: 830.6348224\ttotal: 2.75s\tremaining: 1.38s\n",
      "6:\tlearn: 813.3819569\ttotal: 3.17s\tremaining: 907ms\n",
      "7:\tlearn: 796.6452840\ttotal: 3.61s\tremaining: 451ms\n",
      "8:\tlearn: 780.2373449\ttotal: 4.06s\tremaining: 0us\n",
      "0:\tlearn: 926.2647360\ttotal: 549ms\tremaining: 4.94s\n",
      "1:\tlearn: 906.3758016\ttotal: 981ms\tremaining: 3.92s\n",
      "2:\tlearn: 886.3932667\ttotal: 1.42s\tremaining: 3.32s\n",
      "3:\tlearn: 867.4944761\ttotal: 1.88s\tremaining: 2.82s\n",
      "4:\tlearn: 848.7492804\ttotal: 2.31s\tremaining: 2.31s\n",
      "5:\tlearn: 830.6348224\ttotal: 2.77s\tremaining: 1.84s\n",
      "6:\tlearn: 813.3819569\ttotal: 3.23s\tremaining: 1.38s\n",
      "7:\tlearn: 796.6452840\ttotal: 3.71s\tremaining: 928ms\n",
      "8:\tlearn: 780.2373449\ttotal: 4.15s\tremaining: 461ms\n",
      "9:\tlearn: 764.5699727\ttotal: 4.59s\tremaining: 0us\n",
      "0:\tlearn: 926.2647360\ttotal: 553ms\tremaining: 2.77s\n",
      "1:\tlearn: 906.3758016\ttotal: 1.02s\tremaining: 2.05s\n",
      "2:\tlearn: 886.3932667\ttotal: 1.43s\tremaining: 1.43s\n",
      "3:\tlearn: 867.4944761\ttotal: 1.86s\tremaining: 931ms\n",
      "4:\tlearn: 848.7492804\ttotal: 2.29s\tremaining: 459ms\n",
      "5:\tlearn: 830.6348224\ttotal: 2.75s\tremaining: 0us\n",
      "0:\tlearn: 926.2647360\ttotal: 557ms\tremaining: 557ms\n",
      "1:\tlearn: 906.3758016\ttotal: 971ms\tremaining: 0us\n",
      "0:\tlearn: 926.2647360\ttotal: 548ms\tremaining: 1.64s\n",
      "1:\tlearn: 906.3758016\ttotal: 972ms\tremaining: 972ms\n",
      "2:\tlearn: 886.3932667\ttotal: 1.39s\tremaining: 464ms\n",
      "3:\tlearn: 867.4944761\ttotal: 1.83s\tremaining: 0us\n"
     ]
    },
    {
     "name": "stderr",
     "output_type": "stream",
     "text": [
      "C:\\Users\\toni3\\Anaconda3\\lib\\site-packages\\skopt\\optimizer\\optimizer.py:399: UserWarning: The objective has been evaluated at this point before.\n",
      "  warnings.warn(\"The objective has been evaluated \"\n"
     ]
    },
    {
     "name": "stdout",
     "output_type": "stream",
     "text": [
      "0:\tlearn: 926.2647360\ttotal: 579ms\tremaining: 5.21s\n",
      "1:\tlearn: 906.3758016\ttotal: 1.01s\tremaining: 4.05s\n",
      "2:\tlearn: 886.3932667\ttotal: 1.44s\tremaining: 3.36s\n",
      "3:\tlearn: 867.4944761\ttotal: 1.88s\tremaining: 2.82s\n",
      "4:\tlearn: 848.7492804\ttotal: 2.3s\tremaining: 2.3s\n",
      "5:\tlearn: 830.6348224\ttotal: 2.8s\tremaining: 1.87s\n",
      "6:\tlearn: 813.3819569\ttotal: 3.23s\tremaining: 1.38s\n",
      "7:\tlearn: 796.6452840\ttotal: 3.68s\tremaining: 919ms\n",
      "8:\tlearn: 780.2373449\ttotal: 4.1s\tremaining: 455ms\n",
      "9:\tlearn: 764.5699727\ttotal: 4.59s\tremaining: 0us\n"
     ]
    },
    {
     "name": "stderr",
     "output_type": "stream",
     "text": [
      "C:\\Users\\toni3\\Anaconda3\\lib\\site-packages\\skopt\\optimizer\\optimizer.py:399: UserWarning: The objective has been evaluated at this point before.\n",
      "  warnings.warn(\"The objective has been evaluated \"\n"
     ]
    },
    {
     "name": "stdout",
     "output_type": "stream",
     "text": [
      "0:\tlearn: 926.2647360\ttotal: 605ms\tremaining: 5.45s\n",
      "1:\tlearn: 906.3758016\ttotal: 1.1s\tremaining: 4.4s\n",
      "2:\tlearn: 886.3932667\ttotal: 1.63s\tremaining: 3.79s\n",
      "3:\tlearn: 867.4944761\ttotal: 2.13s\tremaining: 3.19s\n",
      "4:\tlearn: 848.7492804\ttotal: 2.62s\tremaining: 2.62s\n",
      "5:\tlearn: 830.6348224\ttotal: 3.13s\tremaining: 2.09s\n",
      "6:\tlearn: 813.3819569\ttotal: 3.57s\tremaining: 1.53s\n",
      "7:\tlearn: 796.6452840\ttotal: 4.03s\tremaining: 1.01s\n",
      "8:\tlearn: 780.2373449\ttotal: 4.43s\tremaining: 492ms\n",
      "9:\tlearn: 764.5699727\ttotal: 4.86s\tremaining: 0us\n"
     ]
    },
    {
     "name": "stderr",
     "output_type": "stream",
     "text": [
      "C:\\Users\\toni3\\Anaconda3\\lib\\site-packages\\skopt\\optimizer\\optimizer.py:399: UserWarning: The objective has been evaluated at this point before.\n",
      "  warnings.warn(\"The objective has been evaluated \"\n"
     ]
    },
    {
     "name": "stdout",
     "output_type": "stream",
     "text": [
      "0:\tlearn: 926.2647360\ttotal: 558ms\tremaining: 5.02s\n",
      "1:\tlearn: 906.3758016\ttotal: 988ms\tremaining: 3.95s\n",
      "2:\tlearn: 886.3932667\ttotal: 1.45s\tremaining: 3.38s\n",
      "3:\tlearn: 867.4944761\ttotal: 1.95s\tremaining: 2.92s\n",
      "4:\tlearn: 848.7492804\ttotal: 2.42s\tremaining: 2.42s\n",
      "5:\tlearn: 830.6348224\ttotal: 2.9s\tremaining: 1.94s\n",
      "6:\tlearn: 813.3819569\ttotal: 3.39s\tremaining: 1.45s\n",
      "7:\tlearn: 796.6452840\ttotal: 3.88s\tremaining: 971ms\n",
      "8:\tlearn: 780.2373449\ttotal: 4.32s\tremaining: 480ms\n",
      "9:\tlearn: 764.5699727\ttotal: 4.77s\tremaining: 0us\n",
      "0:\tlearn: 926.2647360\ttotal: 561ms\tremaining: 3.93s\n",
      "1:\tlearn: 906.3758016\ttotal: 999ms\tremaining: 3s\n",
      "2:\tlearn: 886.3932667\ttotal: 1.44s\tremaining: 2.39s\n",
      "3:\tlearn: 867.4944761\ttotal: 1.9s\tremaining: 1.9s\n",
      "4:\tlearn: 848.7492804\ttotal: 2.34s\tremaining: 1.4s\n",
      "5:\tlearn: 830.6348224\ttotal: 2.8s\tremaining: 933ms\n",
      "6:\tlearn: 813.3819569\ttotal: 3.23s\tremaining: 461ms\n",
      "7:\tlearn: 796.6452840\ttotal: 3.68s\tremaining: 0us\n"
     ]
    },
    {
     "name": "stderr",
     "output_type": "stream",
     "text": [
      "C:\\Users\\toni3\\Anaconda3\\lib\\site-packages\\skopt\\optimizer\\optimizer.py:399: UserWarning: The objective has been evaluated at this point before.\n",
      "  warnings.warn(\"The objective has been evaluated \"\n"
     ]
    },
    {
     "name": "stdout",
     "output_type": "stream",
     "text": [
      "0:\tlearn: 926.2647360\ttotal: 548ms\tremaining: 4.93s\n",
      "1:\tlearn: 906.3758016\ttotal: 969ms\tremaining: 3.87s\n",
      "2:\tlearn: 886.3932667\ttotal: 1.39s\tremaining: 3.24s\n",
      "3:\tlearn: 867.4944761\ttotal: 1.87s\tremaining: 2.81s\n",
      "4:\tlearn: 848.7492804\ttotal: 2.31s\tremaining: 2.31s\n",
      "5:\tlearn: 830.6348224\ttotal: 2.8s\tremaining: 1.86s\n",
      "6:\tlearn: 813.3819569\ttotal: 3.22s\tremaining: 1.38s\n",
      "7:\tlearn: 796.6452840\ttotal: 3.65s\tremaining: 914ms\n",
      "8:\tlearn: 780.2373449\ttotal: 4.07s\tremaining: 452ms\n",
      "9:\tlearn: 764.5699727\ttotal: 4.5s\tremaining: 0us\n"
     ]
    },
    {
     "name": "stderr",
     "output_type": "stream",
     "text": [
      "C:\\Users\\toni3\\Anaconda3\\lib\\site-packages\\skopt\\optimizer\\optimizer.py:399: UserWarning: The objective has been evaluated at this point before.\n",
      "  warnings.warn(\"The objective has been evaluated \"\n"
     ]
    },
    {
     "name": "stdout",
     "output_type": "stream",
     "text": [
      "0:\tlearn: 926.2647360\ttotal: 606ms\tremaining: 5.46s\n",
      "1:\tlearn: 906.3758016\ttotal: 1.07s\tremaining: 4.28s\n",
      "2:\tlearn: 886.3932667\ttotal: 1.54s\tremaining: 3.59s\n",
      "3:\tlearn: 867.4944761\ttotal: 2.01s\tremaining: 3.02s\n",
      "4:\tlearn: 848.7492804\ttotal: 2.44s\tremaining: 2.44s\n",
      "5:\tlearn: 830.6348224\ttotal: 2.91s\tremaining: 1.94s\n",
      "6:\tlearn: 813.3819569\ttotal: 3.34s\tremaining: 1.43s\n",
      "7:\tlearn: 796.6452840\ttotal: 3.78s\tremaining: 944ms\n",
      "8:\tlearn: 780.2373449\ttotal: 4.19s\tremaining: 465ms\n",
      "9:\tlearn: 764.5699727\ttotal: 4.62s\tremaining: 0us\n"
     ]
    },
    {
     "name": "stderr",
     "output_type": "stream",
     "text": [
      "C:\\Users\\toni3\\Anaconda3\\lib\\site-packages\\skopt\\optimizer\\optimizer.py:399: UserWarning: The objective has been evaluated at this point before.\n",
      "  warnings.warn(\"The objective has been evaluated \"\n"
     ]
    },
    {
     "name": "stdout",
     "output_type": "stream",
     "text": [
      "0:\tlearn: 926.2647360\ttotal: 609ms\tremaining: 5.48s\n",
      "1:\tlearn: 906.3758016\ttotal: 1.05s\tremaining: 4.21s\n",
      "2:\tlearn: 886.3932667\ttotal: 1.49s\tremaining: 3.47s\n",
      "3:\tlearn: 867.4944761\ttotal: 1.92s\tremaining: 2.88s\n",
      "4:\tlearn: 848.7492804\ttotal: 2.34s\tremaining: 2.34s\n",
      "5:\tlearn: 830.6348224\ttotal: 2.78s\tremaining: 1.85s\n",
      "6:\tlearn: 813.3819569\ttotal: 3.23s\tremaining: 1.38s\n",
      "7:\tlearn: 796.6452840\ttotal: 3.71s\tremaining: 928ms\n",
      "8:\tlearn: 780.2373449\ttotal: 4.18s\tremaining: 465ms\n",
      "9:\tlearn: 764.5699727\ttotal: 4.63s\tremaining: 0us\n"
     ]
    },
    {
     "name": "stderr",
     "output_type": "stream",
     "text": [
      "C:\\Users\\toni3\\Anaconda3\\lib\\site-packages\\skopt\\optimizer\\optimizer.py:399: UserWarning: The objective has been evaluated at this point before.\n",
      "  warnings.warn(\"The objective has been evaluated \"\n"
     ]
    },
    {
     "name": "stdout",
     "output_type": "stream",
     "text": [
      "0:\tlearn: 926.2647360\ttotal: 591ms\tremaining: 5.32s\n",
      "1:\tlearn: 906.3758016\ttotal: 1.05s\tremaining: 4.21s\n",
      "2:\tlearn: 886.3932667\ttotal: 1.53s\tremaining: 3.57s\n",
      "3:\tlearn: 867.4944761\ttotal: 2.01s\tremaining: 3.02s\n",
      "4:\tlearn: 848.7492804\ttotal: 2.48s\tremaining: 2.48s\n",
      "5:\tlearn: 830.6348224\ttotal: 2.94s\tremaining: 1.96s\n",
      "6:\tlearn: 813.3819569\ttotal: 3.39s\tremaining: 1.45s\n",
      "7:\tlearn: 796.6452840\ttotal: 3.84s\tremaining: 961ms\n",
      "8:\tlearn: 780.2373449\ttotal: 4.26s\tremaining: 473ms\n",
      "9:\tlearn: 764.5699727\ttotal: 4.71s\tremaining: 0us\n"
     ]
    },
    {
     "name": "stderr",
     "output_type": "stream",
     "text": [
      "C:\\Users\\toni3\\Anaconda3\\lib\\site-packages\\skopt\\optimizer\\optimizer.py:399: UserWarning: The objective has been evaluated at this point before.\n",
      "  warnings.warn(\"The objective has been evaluated \"\n"
     ]
    },
    {
     "name": "stdout",
     "output_type": "stream",
     "text": [
      "0:\tlearn: 926.2647360\ttotal: 547ms\tremaining: 4.92s\n",
      "1:\tlearn: 906.3758016\ttotal: 966ms\tremaining: 3.87s\n",
      "2:\tlearn: 886.3932667\ttotal: 1.39s\tremaining: 3.23s\n",
      "3:\tlearn: 867.4944761\ttotal: 1.88s\tremaining: 2.83s\n",
      "4:\tlearn: 848.7492804\ttotal: 2.3s\tremaining: 2.3s\n",
      "5:\tlearn: 830.6348224\ttotal: 2.73s\tremaining: 1.82s\n",
      "6:\tlearn: 813.3819569\ttotal: 3.16s\tremaining: 1.35s\n",
      "7:\tlearn: 796.6452840\ttotal: 3.59s\tremaining: 899ms\n",
      "8:\tlearn: 780.2373449\ttotal: 4.01s\tremaining: 445ms\n",
      "9:\tlearn: 764.5699727\ttotal: 4.44s\tremaining: 0us\n"
     ]
    },
    {
     "name": "stderr",
     "output_type": "stream",
     "text": [
      "C:\\Users\\toni3\\Anaconda3\\lib\\site-packages\\skopt\\optimizer\\optimizer.py:399: UserWarning: The objective has been evaluated at this point before.\n",
      "  warnings.warn(\"The objective has been evaluated \"\n"
     ]
    },
    {
     "name": "stdout",
     "output_type": "stream",
     "text": [
      "0:\tlearn: 926.2647360\ttotal: 615ms\tremaining: 5.54s\n",
      "1:\tlearn: 906.3758016\ttotal: 1.09s\tremaining: 4.34s\n",
      "2:\tlearn: 886.3932667\ttotal: 1.51s\tremaining: 3.53s\n",
      "3:\tlearn: 867.4944761\ttotal: 1.97s\tremaining: 2.95s\n",
      "4:\tlearn: 848.7492804\ttotal: 2.39s\tremaining: 2.39s\n",
      "5:\tlearn: 830.6348224\ttotal: 2.88s\tremaining: 1.92s\n",
      "6:\tlearn: 813.3819569\ttotal: 3.38s\tremaining: 1.45s\n",
      "7:\tlearn: 796.6452840\ttotal: 3.9s\tremaining: 974ms\n",
      "8:\tlearn: 780.2373449\ttotal: 4.36s\tremaining: 484ms\n",
      "9:\tlearn: 764.5699727\ttotal: 4.84s\tremaining: 0us\n"
     ]
    },
    {
     "name": "stderr",
     "output_type": "stream",
     "text": [
      "C:\\Users\\toni3\\Anaconda3\\lib\\site-packages\\skopt\\optimizer\\optimizer.py:399: UserWarning: The objective has been evaluated at this point before.\n",
      "  warnings.warn(\"The objective has been evaluated \"\n"
     ]
    },
    {
     "name": "stdout",
     "output_type": "stream",
     "text": [
      "0:\tlearn: 926.2647360\ttotal: 559ms\tremaining: 5.03s\n",
      "1:\tlearn: 906.3758016\ttotal: 1.01s\tremaining: 4.05s\n",
      "2:\tlearn: 886.3932667\ttotal: 1.45s\tremaining: 3.39s\n",
      "3:\tlearn: 867.4944761\ttotal: 1.91s\tremaining: 2.86s\n",
      "4:\tlearn: 848.7492804\ttotal: 2.33s\tremaining: 2.33s\n",
      "5:\tlearn: 830.6348224\ttotal: 2.78s\tremaining: 1.85s\n",
      "6:\tlearn: 813.3819569\ttotal: 3.21s\tremaining: 1.38s\n",
      "7:\tlearn: 796.6452840\ttotal: 3.65s\tremaining: 913ms\n",
      "8:\tlearn: 780.2373449\ttotal: 4.08s\tremaining: 453ms\n",
      "9:\tlearn: 764.5699727\ttotal: 4.51s\tremaining: 0us\n"
     ]
    },
    {
     "name": "stderr",
     "output_type": "stream",
     "text": [
      "C:\\Users\\toni3\\Anaconda3\\lib\\site-packages\\skopt\\optimizer\\optimizer.py:399: UserWarning: The objective has been evaluated at this point before.\n",
      "  warnings.warn(\"The objective has been evaluated \"\n"
     ]
    },
    {
     "name": "stdout",
     "output_type": "stream",
     "text": [
      "0:\tlearn: 926.2647360\ttotal: 548ms\tremaining: 4.93s\n",
      "1:\tlearn: 906.3758016\ttotal: 968ms\tremaining: 3.87s\n",
      "2:\tlearn: 886.3932667\ttotal: 1.38s\tremaining: 3.23s\n",
      "3:\tlearn: 867.4944761\ttotal: 1.83s\tremaining: 2.74s\n",
      "4:\tlearn: 848.7492804\ttotal: 2.25s\tremaining: 2.25s\n",
      "5:\tlearn: 830.6348224\ttotal: 2.69s\tremaining: 1.79s\n",
      "6:\tlearn: 813.3819569\ttotal: 3.11s\tremaining: 1.33s\n",
      "7:\tlearn: 796.6452840\ttotal: 3.55s\tremaining: 887ms\n",
      "8:\tlearn: 780.2373449\ttotal: 3.96s\tremaining: 440ms\n",
      "9:\tlearn: 764.5699727\ttotal: 4.38s\tremaining: 0us\n"
     ]
    },
    {
     "name": "stderr",
     "output_type": "stream",
     "text": [
      "C:\\Users\\toni3\\Anaconda3\\lib\\site-packages\\skopt\\optimizer\\optimizer.py:399: UserWarning: The objective has been evaluated at this point before.\n",
      "  warnings.warn(\"The objective has been evaluated \"\n"
     ]
    },
    {
     "name": "stdout",
     "output_type": "stream",
     "text": [
      "0:\tlearn: 926.2647360\ttotal: 543ms\tremaining: 4.89s\n",
      "1:\tlearn: 906.3758016\ttotal: 962ms\tremaining: 3.85s\n",
      "2:\tlearn: 886.3932667\ttotal: 1.35s\tremaining: 3.14s\n",
      "3:\tlearn: 867.4944761\ttotal: 1.82s\tremaining: 2.73s\n",
      "4:\tlearn: 848.7492804\ttotal: 2.28s\tremaining: 2.28s\n",
      "5:\tlearn: 830.6348224\ttotal: 2.76s\tremaining: 1.84s\n",
      "6:\tlearn: 813.3819569\ttotal: 3.22s\tremaining: 1.38s\n",
      "7:\tlearn: 796.6452840\ttotal: 3.68s\tremaining: 921ms\n",
      "8:\tlearn: 780.2373449\ttotal: 4.13s\tremaining: 459ms\n",
      "9:\tlearn: 764.5699727\ttotal: 4.6s\tremaining: 0us\n"
     ]
    },
    {
     "name": "stderr",
     "output_type": "stream",
     "text": [
      "C:\\Users\\toni3\\Anaconda3\\lib\\site-packages\\skopt\\optimizer\\optimizer.py:399: UserWarning: The objective has been evaluated at this point before.\n",
      "  warnings.warn(\"The objective has been evaluated \"\n"
     ]
    },
    {
     "name": "stdout",
     "output_type": "stream",
     "text": [
      "0:\tlearn: 926.2647360\ttotal: 557ms\tremaining: 5.01s\n",
      "1:\tlearn: 906.3758016\ttotal: 981ms\tremaining: 3.92s\n",
      "2:\tlearn: 886.3932667\ttotal: 1.4s\tremaining: 3.28s\n",
      "3:\tlearn: 867.4944761\ttotal: 1.84s\tremaining: 2.75s\n",
      "4:\tlearn: 848.7492804\ttotal: 2.25s\tremaining: 2.25s\n",
      "5:\tlearn: 830.6348224\ttotal: 2.69s\tremaining: 1.79s\n",
      "6:\tlearn: 813.3819569\ttotal: 3.11s\tremaining: 1.33s\n",
      "7:\tlearn: 796.6452840\ttotal: 3.54s\tremaining: 884ms\n",
      "8:\tlearn: 780.2373449\ttotal: 3.95s\tremaining: 438ms\n",
      "9:\tlearn: 764.5699727\ttotal: 4.39s\tremaining: 0us\n"
     ]
    },
    {
     "name": "stderr",
     "output_type": "stream",
     "text": [
      "C:\\Users\\toni3\\Anaconda3\\lib\\site-packages\\skopt\\optimizer\\optimizer.py:399: UserWarning: The objective has been evaluated at this point before.\n",
      "  warnings.warn(\"The objective has been evaluated \"\n"
     ]
    },
    {
     "name": "stdout",
     "output_type": "stream",
     "text": [
      "0:\tlearn: 926.2647360\ttotal: 584ms\tremaining: 5.26s\n",
      "1:\tlearn: 906.3758016\ttotal: 1.04s\tremaining: 4.15s\n",
      "2:\tlearn: 886.3932667\ttotal: 1.51s\tremaining: 3.53s\n",
      "3:\tlearn: 867.4944761\ttotal: 2.03s\tremaining: 3.05s\n",
      "4:\tlearn: 848.7492804\ttotal: 2.44s\tremaining: 2.44s\n",
      "5:\tlearn: 830.6348224\ttotal: 2.94s\tremaining: 1.96s\n",
      "6:\tlearn: 813.3819569\ttotal: 3.4s\tremaining: 1.46s\n",
      "7:\tlearn: 796.6452840\ttotal: 3.83s\tremaining: 958ms\n",
      "8:\tlearn: 780.2373449\ttotal: 4.25s\tremaining: 472ms\n",
      "9:\tlearn: 764.5699727\ttotal: 4.7s\tremaining: 0us\n"
     ]
    },
    {
     "name": "stderr",
     "output_type": "stream",
     "text": [
      "C:\\Users\\toni3\\Anaconda3\\lib\\site-packages\\skopt\\optimizer\\optimizer.py:399: UserWarning: The objective has been evaluated at this point before.\n",
      "  warnings.warn(\"The objective has been evaluated \"\n"
     ]
    },
    {
     "name": "stdout",
     "output_type": "stream",
     "text": [
      "0:\tlearn: 926.2647360\ttotal: 545ms\tremaining: 4.91s\n",
      "1:\tlearn: 906.3758016\ttotal: 968ms\tremaining: 3.87s\n",
      "2:\tlearn: 886.3932667\ttotal: 1.4s\tremaining: 3.27s\n",
      "3:\tlearn: 867.4944761\ttotal: 1.84s\tremaining: 2.77s\n",
      "4:\tlearn: 848.7492804\ttotal: 2.28s\tremaining: 2.28s\n",
      "5:\tlearn: 830.6348224\ttotal: 2.73s\tremaining: 1.82s\n",
      "6:\tlearn: 813.3819569\ttotal: 3.14s\tremaining: 1.35s\n",
      "7:\tlearn: 796.6452840\ttotal: 3.7s\tremaining: 925ms\n",
      "8:\tlearn: 780.2373449\ttotal: 4.22s\tremaining: 469ms\n",
      "9:\tlearn: 764.5699727\ttotal: 4.72s\tremaining: 0us\n"
     ]
    },
    {
     "name": "stderr",
     "output_type": "stream",
     "text": [
      "C:\\Users\\toni3\\Anaconda3\\lib\\site-packages\\skopt\\optimizer\\optimizer.py:399: UserWarning: The objective has been evaluated at this point before.\n",
      "  warnings.warn(\"The objective has been evaluated \"\n"
     ]
    },
    {
     "name": "stdout",
     "output_type": "stream",
     "text": [
      "0:\tlearn: 926.2647360\ttotal: 639ms\tremaining: 5.75s\n",
      "1:\tlearn: 906.3758016\ttotal: 1.14s\tremaining: 4.57s\n",
      "2:\tlearn: 886.3932667\ttotal: 1.61s\tremaining: 3.76s\n",
      "3:\tlearn: 867.4944761\ttotal: 2.07s\tremaining: 3.11s\n",
      "4:\tlearn: 848.7492804\ttotal: 2.54s\tremaining: 2.54s\n",
      "5:\tlearn: 830.6348224\ttotal: 3.03s\tremaining: 2.02s\n",
      "6:\tlearn: 813.3819569\ttotal: 3.46s\tremaining: 1.48s\n",
      "7:\tlearn: 796.6452840\ttotal: 3.97s\tremaining: 994ms\n",
      "8:\tlearn: 780.2373449\ttotal: 4.46s\tremaining: 496ms\n",
      "9:\tlearn: 764.5699727\ttotal: 4.94s\tremaining: 0us\n"
     ]
    },
    {
     "name": "stderr",
     "output_type": "stream",
     "text": [
      "C:\\Users\\toni3\\Anaconda3\\lib\\site-packages\\skopt\\optimizer\\optimizer.py:399: UserWarning: The objective has been evaluated at this point before.\n",
      "  warnings.warn(\"The objective has been evaluated \"\n"
     ]
    },
    {
     "name": "stdout",
     "output_type": "stream",
     "text": [
      "0:\tlearn: 926.2647360\ttotal: 663ms\tremaining: 5.96s\n",
      "1:\tlearn: 906.3758016\ttotal: 1.09s\tremaining: 4.37s\n",
      "2:\tlearn: 886.3932667\ttotal: 1.52s\tremaining: 3.56s\n",
      "3:\tlearn: 867.4944761\ttotal: 1.97s\tremaining: 2.95s\n",
      "4:\tlearn: 848.7492804\ttotal: 2.38s\tremaining: 2.38s\n",
      "5:\tlearn: 830.6348224\ttotal: 2.83s\tremaining: 1.89s\n",
      "6:\tlearn: 813.3819569\ttotal: 3.26s\tremaining: 1.4s\n",
      "7:\tlearn: 796.6452840\ttotal: 3.75s\tremaining: 936ms\n",
      "8:\tlearn: 780.2373449\ttotal: 4.26s\tremaining: 473ms\n",
      "9:\tlearn: 764.5699727\ttotal: 4.89s\tremaining: 0us\n"
     ]
    },
    {
     "name": "stderr",
     "output_type": "stream",
     "text": [
      "C:\\Users\\toni3\\Anaconda3\\lib\\site-packages\\skopt\\optimizer\\optimizer.py:399: UserWarning: The objective has been evaluated at this point before.\n",
      "  warnings.warn(\"The objective has been evaluated \"\n"
     ]
    },
    {
     "name": "stdout",
     "output_type": "stream",
     "text": [
      "0:\tlearn: 926.2647360\ttotal: 552ms\tremaining: 4.97s\n",
      "1:\tlearn: 906.3758016\ttotal: 968ms\tremaining: 3.87s\n",
      "2:\tlearn: 886.3932667\ttotal: 1.4s\tremaining: 3.26s\n",
      "3:\tlearn: 867.4944761\ttotal: 1.82s\tremaining: 2.74s\n",
      "4:\tlearn: 848.7492804\ttotal: 2.25s\tremaining: 2.25s\n",
      "5:\tlearn: 830.6348224\ttotal: 2.71s\tremaining: 1.81s\n",
      "6:\tlearn: 813.3819569\ttotal: 3.18s\tremaining: 1.36s\n",
      "7:\tlearn: 796.6452840\ttotal: 3.67s\tremaining: 918ms\n",
      "8:\tlearn: 780.2373449\ttotal: 4.12s\tremaining: 458ms\n",
      "9:\tlearn: 764.5699727\ttotal: 4.59s\tremaining: 0us\n"
     ]
    },
    {
     "name": "stderr",
     "output_type": "stream",
     "text": [
      "C:\\Users\\toni3\\Anaconda3\\lib\\site-packages\\skopt\\optimizer\\optimizer.py:399: UserWarning: The objective has been evaluated at this point before.\n",
      "  warnings.warn(\"The objective has been evaluated \"\n"
     ]
    },
    {
     "name": "stdout",
     "output_type": "stream",
     "text": [
      "0:\tlearn: 926.2647360\ttotal: 580ms\tremaining: 5.22s\n",
      "1:\tlearn: 906.3758016\ttotal: 1.03s\tremaining: 4.14s\n",
      "2:\tlearn: 886.3932667\ttotal: 1.48s\tremaining: 3.46s\n",
      "3:\tlearn: 867.4944761\ttotal: 1.96s\tremaining: 2.94s\n",
      "4:\tlearn: 848.7492804\ttotal: 2.38s\tremaining: 2.38s\n",
      "5:\tlearn: 830.6348224\ttotal: 2.82s\tremaining: 1.88s\n",
      "6:\tlearn: 813.3819569\ttotal: 3.23s\tremaining: 1.38s\n",
      "7:\tlearn: 796.6452840\ttotal: 3.66s\tremaining: 914ms\n",
      "8:\tlearn: 780.2373449\ttotal: 4.07s\tremaining: 453ms\n",
      "9:\tlearn: 764.5699727\ttotal: 4.5s\tremaining: 0us\n"
     ]
    },
    {
     "name": "stderr",
     "output_type": "stream",
     "text": [
      "C:\\Users\\toni3\\Anaconda3\\lib\\site-packages\\skopt\\optimizer\\optimizer.py:399: UserWarning: The objective has been evaluated at this point before.\n",
      "  warnings.warn(\"The objective has been evaluated \"\n"
     ]
    },
    {
     "name": "stdout",
     "output_type": "stream",
     "text": [
      "0:\tlearn: 926.2647360\ttotal: 530ms\tremaining: 4.77s\n",
      "1:\tlearn: 906.3758016\ttotal: 957ms\tremaining: 3.83s\n",
      "2:\tlearn: 886.3932667\ttotal: 1.38s\tremaining: 3.22s\n",
      "3:\tlearn: 867.4944761\ttotal: 1.86s\tremaining: 2.79s\n",
      "4:\tlearn: 848.7492804\ttotal: 2.3s\tremaining: 2.3s\n",
      "5:\tlearn: 830.6348224\ttotal: 2.84s\tremaining: 1.89s\n",
      "6:\tlearn: 813.3819569\ttotal: 3.27s\tremaining: 1.4s\n",
      "7:\tlearn: 796.6452840\ttotal: 3.78s\tremaining: 945ms\n",
      "8:\tlearn: 780.2373449\ttotal: 4.24s\tremaining: 471ms\n",
      "9:\tlearn: 764.5699727\ttotal: 4.66s\tremaining: 0us\n"
     ]
    },
    {
     "name": "stderr",
     "output_type": "stream",
     "text": [
      "C:\\Users\\toni3\\Anaconda3\\lib\\site-packages\\skopt\\optimizer\\optimizer.py:399: UserWarning: The objective has been evaluated at this point before.\n",
      "  warnings.warn(\"The objective has been evaluated \"\n"
     ]
    },
    {
     "name": "stdout",
     "output_type": "stream",
     "text": [
      "0:\tlearn: 926.2647360\ttotal: 491ms\tremaining: 4.42s\n",
      "1:\tlearn: 906.3758016\ttotal: 1.01s\tremaining: 4.06s\n",
      "2:\tlearn: 886.3932667\ttotal: 1.49s\tremaining: 3.48s\n",
      "3:\tlearn: 867.4944761\ttotal: 2.03s\tremaining: 3.05s\n",
      "4:\tlearn: 848.7492804\ttotal: 2.52s\tremaining: 2.52s\n",
      "5:\tlearn: 830.6348224\ttotal: 3.02s\tremaining: 2.01s\n",
      "6:\tlearn: 813.3819569\ttotal: 3.52s\tremaining: 1.51s\n",
      "7:\tlearn: 796.6452840\ttotal: 4.06s\tremaining: 1.01s\n",
      "8:\tlearn: 780.2373449\ttotal: 4.55s\tremaining: 506ms\n",
      "9:\tlearn: 764.5699727\ttotal: 5.08s\tremaining: 0us\n"
     ]
    },
    {
     "name": "stderr",
     "output_type": "stream",
     "text": [
      "C:\\Users\\toni3\\Anaconda3\\lib\\site-packages\\skopt\\optimizer\\optimizer.py:399: UserWarning: The objective has been evaluated at this point before.\n",
      "  warnings.warn(\"The objective has been evaluated \"\n"
     ]
    },
    {
     "name": "stdout",
     "output_type": "stream",
     "text": [
      "0:\tlearn: 926.2647360\ttotal: 550ms\tremaining: 4.95s\n",
      "1:\tlearn: 906.3758016\ttotal: 998ms\tremaining: 3.99s\n",
      "2:\tlearn: 886.3932667\ttotal: 1.58s\tremaining: 3.68s\n",
      "3:\tlearn: 867.4944761\ttotal: 2.07s\tremaining: 3.1s\n",
      "4:\tlearn: 848.7492804\ttotal: 2.51s\tremaining: 2.51s\n",
      "5:\tlearn: 830.6348224\ttotal: 2.97s\tremaining: 1.98s\n",
      "6:\tlearn: 813.3819569\ttotal: 3.4s\tremaining: 1.46s\n",
      "7:\tlearn: 796.6452840\ttotal: 3.87s\tremaining: 969ms\n",
      "8:\tlearn: 780.2373449\ttotal: 4.29s\tremaining: 477ms\n",
      "9:\tlearn: 764.5699727\ttotal: 4.74s\tremaining: 0us\n"
     ]
    },
    {
     "name": "stderr",
     "output_type": "stream",
     "text": [
      "C:\\Users\\toni3\\Anaconda3\\lib\\site-packages\\skopt\\optimizer\\optimizer.py:399: UserWarning: The objective has been evaluated at this point before.\n",
      "  warnings.warn(\"The objective has been evaluated \"\n"
     ]
    },
    {
     "name": "stdout",
     "output_type": "stream",
     "text": [
      "0:\tlearn: 926.2647360\ttotal: 563ms\tremaining: 5.06s\n",
      "1:\tlearn: 906.3758016\ttotal: 984ms\tremaining: 3.94s\n",
      "2:\tlearn: 886.3932667\ttotal: 1.41s\tremaining: 3.29s\n",
      "3:\tlearn: 867.4944761\ttotal: 2.06s\tremaining: 3.09s\n",
      "4:\tlearn: 848.7492804\ttotal: 2.64s\tremaining: 2.64s\n",
      "5:\tlearn: 830.6348224\ttotal: 3.22s\tremaining: 2.15s\n",
      "6:\tlearn: 813.3819569\ttotal: 3.7s\tremaining: 1.58s\n",
      "7:\tlearn: 796.6452840\ttotal: 4.23s\tremaining: 1.06s\n",
      "8:\tlearn: 780.2373449\ttotal: 4.8s\tremaining: 534ms\n",
      "9:\tlearn: 764.5699727\ttotal: 5.3s\tremaining: 0us\n"
     ]
    },
    {
     "name": "stderr",
     "output_type": "stream",
     "text": [
      "C:\\Users\\toni3\\Anaconda3\\lib\\site-packages\\skopt\\optimizer\\optimizer.py:399: UserWarning: The objective has been evaluated at this point before.\n",
      "  warnings.warn(\"The objective has been evaluated \"\n"
     ]
    },
    {
     "name": "stdout",
     "output_type": "stream",
     "text": [
      "0:\tlearn: 926.2647360\ttotal: 592ms\tremaining: 5.33s\n",
      "1:\tlearn: 906.3758016\ttotal: 1.03s\tremaining: 4.14s\n",
      "2:\tlearn: 886.3932667\ttotal: 1.48s\tremaining: 3.46s\n",
      "3:\tlearn: 867.4944761\ttotal: 1.97s\tremaining: 2.95s\n",
      "4:\tlearn: 848.7492804\ttotal: 2.49s\tremaining: 2.49s\n",
      "5:\tlearn: 830.6348224\ttotal: 3.03s\tremaining: 2.02s\n",
      "6:\tlearn: 813.3819569\ttotal: 3.5s\tremaining: 1.5s\n",
      "7:\tlearn: 796.6452840\ttotal: 3.97s\tremaining: 993ms\n",
      "8:\tlearn: 780.2373449\ttotal: 4.4s\tremaining: 489ms\n",
      "9:\tlearn: 764.5699727\ttotal: 4.87s\tremaining: 0us\n"
     ]
    },
    {
     "name": "stderr",
     "output_type": "stream",
     "text": [
      "C:\\Users\\toni3\\Anaconda3\\lib\\site-packages\\skopt\\optimizer\\optimizer.py:399: UserWarning: The objective has been evaluated at this point before.\n",
      "  warnings.warn(\"The objective has been evaluated \"\n"
     ]
    },
    {
     "name": "stdout",
     "output_type": "stream",
     "text": [
      "0:\tlearn: 926.2647360\ttotal: 588ms\tremaining: 5.29s\n",
      "1:\tlearn: 906.3758016\ttotal: 1.03s\tremaining: 4.11s\n",
      "2:\tlearn: 886.3932667\ttotal: 1.52s\tremaining: 3.54s\n",
      "3:\tlearn: 867.4944761\ttotal: 2.08s\tremaining: 3.11s\n",
      "4:\tlearn: 848.7492804\ttotal: 2.63s\tremaining: 2.63s\n",
      "5:\tlearn: 830.6348224\ttotal: 3.1s\tremaining: 2.07s\n",
      "6:\tlearn: 813.3819569\ttotal: 3.53s\tremaining: 1.51s\n",
      "7:\tlearn: 796.6452840\ttotal: 3.97s\tremaining: 992ms\n",
      "8:\tlearn: 780.2373449\ttotal: 4.39s\tremaining: 488ms\n",
      "9:\tlearn: 764.5699727\ttotal: 4.82s\tremaining: 0us\n"
     ]
    },
    {
     "name": "stderr",
     "output_type": "stream",
     "text": [
      "C:\\Users\\toni3\\Anaconda3\\lib\\site-packages\\skopt\\optimizer\\optimizer.py:399: UserWarning: The objective has been evaluated at this point before.\n",
      "  warnings.warn(\"The objective has been evaluated \"\n"
     ]
    },
    {
     "name": "stdout",
     "output_type": "stream",
     "text": [
      "0:\tlearn: 926.2647360\ttotal: 484ms\tremaining: 4.36s\n",
      "1:\tlearn: 906.3758016\ttotal: 902ms\tremaining: 3.61s\n",
      "2:\tlearn: 886.3932667\ttotal: 1.33s\tremaining: 3.1s\n",
      "3:\tlearn: 867.4944761\ttotal: 1.82s\tremaining: 2.73s\n",
      "4:\tlearn: 848.7492804\ttotal: 2.23s\tremaining: 2.23s\n",
      "5:\tlearn: 830.6348224\ttotal: 2.79s\tremaining: 1.86s\n",
      "6:\tlearn: 813.3819569\ttotal: 3.21s\tremaining: 1.38s\n",
      "7:\tlearn: 796.6452840\ttotal: 3.65s\tremaining: 912ms\n",
      "8:\tlearn: 780.2373449\ttotal: 4.07s\tremaining: 452ms\n",
      "9:\tlearn: 764.5699727\ttotal: 4.5s\tremaining: 0us\n"
     ]
    },
    {
     "name": "stderr",
     "output_type": "stream",
     "text": [
      "C:\\Users\\toni3\\Anaconda3\\lib\\site-packages\\skopt\\optimizer\\optimizer.py:399: UserWarning: The objective has been evaluated at this point before.\n",
      "  warnings.warn(\"The objective has been evaluated \"\n"
     ]
    },
    {
     "name": "stdout",
     "output_type": "stream",
     "text": [
      "0:\tlearn: 926.2647360\ttotal: 814ms\tremaining: 7.33s\n",
      "1:\tlearn: 906.3758016\ttotal: 1.35s\tremaining: 5.42s\n",
      "2:\tlearn: 886.3932667\ttotal: 1.77s\tremaining: 4.14s\n",
      "3:\tlearn: 867.4944761\ttotal: 2.2s\tremaining: 3.31s\n",
      "4:\tlearn: 848.7492804\ttotal: 2.68s\tremaining: 2.68s\n",
      "5:\tlearn: 830.6348224\ttotal: 3.17s\tremaining: 2.11s\n",
      "6:\tlearn: 813.3819569\ttotal: 3.58s\tremaining: 1.53s\n",
      "7:\tlearn: 796.6452840\ttotal: 4.07s\tremaining: 1.02s\n",
      "8:\tlearn: 780.2373449\ttotal: 4.47s\tremaining: 496ms\n",
      "9:\tlearn: 764.5699727\ttotal: 4.97s\tremaining: 0us\n"
     ]
    },
    {
     "name": "stderr",
     "output_type": "stream",
     "text": [
      "C:\\Users\\toni3\\Anaconda3\\lib\\site-packages\\skopt\\optimizer\\optimizer.py:399: UserWarning: The objective has been evaluated at this point before.\n",
      "  warnings.warn(\"The objective has been evaluated \"\n"
     ]
    },
    {
     "name": "stdout",
     "output_type": "stream",
     "text": [
      "0:\tlearn: 926.2647360\ttotal: 544ms\tremaining: 4.9s\n",
      "1:\tlearn: 906.3758016\ttotal: 1s\tremaining: 4.02s\n",
      "2:\tlearn: 886.3932667\ttotal: 1.6s\tremaining: 3.73s\n",
      "3:\tlearn: 867.4944761\ttotal: 2.1s\tremaining: 3.15s\n",
      "4:\tlearn: 848.7492804\ttotal: 2.52s\tremaining: 2.52s\n",
      "5:\tlearn: 830.6348224\ttotal: 2.95s\tremaining: 1.97s\n",
      "6:\tlearn: 813.3819569\ttotal: 3.4s\tremaining: 1.46s\n",
      "7:\tlearn: 796.6452840\ttotal: 3.89s\tremaining: 973ms\n",
      "8:\tlearn: 780.2373449\ttotal: 4.34s\tremaining: 483ms\n",
      "9:\tlearn: 764.5699727\ttotal: 4.81s\tremaining: 0us\n"
     ]
    },
    {
     "name": "stderr",
     "output_type": "stream",
     "text": [
      "C:\\Users\\toni3\\Anaconda3\\lib\\site-packages\\skopt\\optimizer\\optimizer.py:399: UserWarning: The objective has been evaluated at this point before.\n",
      "  warnings.warn(\"The objective has been evaluated \"\n"
     ]
    },
    {
     "name": "stdout",
     "output_type": "stream",
     "text": [
      "0:\tlearn: 926.2647360\ttotal: 550ms\tremaining: 4.95s\n",
      "1:\tlearn: 906.3758016\ttotal: 976ms\tremaining: 3.9s\n",
      "2:\tlearn: 886.3932667\ttotal: 1.4s\tremaining: 3.26s\n",
      "3:\tlearn: 867.4944761\ttotal: 1.84s\tremaining: 2.76s\n",
      "4:\tlearn: 848.7492804\ttotal: 2.26s\tremaining: 2.26s\n",
      "5:\tlearn: 830.6348224\ttotal: 2.7s\tremaining: 1.8s\n",
      "6:\tlearn: 813.3819569\ttotal: 3.13s\tremaining: 1.34s\n",
      "7:\tlearn: 796.6452840\ttotal: 3.57s\tremaining: 892ms\n",
      "8:\tlearn: 780.2373449\ttotal: 3.99s\tremaining: 443ms\n",
      "9:\tlearn: 764.5699727\ttotal: 4.43s\tremaining: 0us\n",
      "Best hyper-parameters: {'n_estimators': 10} and MAE for best hyper-parameters: 563.3728300381824\n",
      "0:\tlearn: 938.9837865\ttotal: 524ms\tremaining: 4.72s\n",
      "1:\tlearn: 917.8824381\ttotal: 951ms\tremaining: 3.8s\n",
      "2:\tlearn: 897.9120165\ttotal: 1.39s\tremaining: 3.24s\n",
      "3:\tlearn: 877.7363004\ttotal: 1.85s\tremaining: 2.77s\n",
      "4:\tlearn: 858.3321187\ttotal: 2.29s\tremaining: 2.29s\n",
      "5:\tlearn: 839.9238418\ttotal: 2.73s\tremaining: 1.82s\n",
      "6:\tlearn: 821.8208251\ttotal: 3.15s\tremaining: 1.35s\n",
      "7:\tlearn: 804.6944389\ttotal: 3.58s\tremaining: 894ms\n",
      "8:\tlearn: 788.4203349\ttotal: 4.02s\tremaining: 447ms\n",
      "9:\tlearn: 771.8807408\ttotal: 4.49s\tremaining: 0us\n",
      "MAE for CatBoost final is 569.3661328661783\n"
     ]
    }
   ],
   "source": [
    "# Hyper-parameter tuning\n",
    "np.random.seed(0)\n",
    "\n",
    "cat = CatBoostRegressor()\n",
    "param_grid_cat = {'n_estimators': (1, 10)}\n",
    "partitions = [(indicesTrain, indicesVal)]\n",
    "budget = 40\n",
    "\n",
    "bayes_cat = BayesSearchCV(\n",
    "        cat,\n",
    "        param_grid_cat,\n",
    "        scoring='neg_mean_absolute_error', \n",
    "        refit = False,\n",
    "        cv=partitions,\n",
    "        n_jobs=1, \n",
    "        verbose=0, \n",
    "        n_iter=budget\n",
    ")\n",
    "\n",
    "model_cat = bayes_cat.fit(Xava, yava)\n",
    "print(\"Best hyper-parameters: {} and MAE for best hyper-parameters: {}\".format(model_cat.best_params_,\n",
    "                                                                               -model_cat.best_score_))\n",
    "\n",
    "#### final model \n",
    "cat_final = CatBoostRegressor()\n",
    "cat_final.set_params(**model_cat.best_params_)\n",
    "model_cat_final = cat_final.fit(XtrainAndVal, ytrainAndVal)\n",
    "model_cat_final_test_pred = model_cat_final.predict(Xtest)\n",
    "print(\"MAE for CatBoost final is {}\".format(mae(model_cat_final_test_pred, ytest)))"
   ]
  },
  {
   "cell_type": "markdown",
   "metadata": {},
   "source": [
    "At this point, you should know which model performs best, and what hyper-parameters to use. Please, evaluate that best performing model on the test set."
   ]
  },
  {
   "cell_type": "code",
   "execution_count": 28,
   "metadata": {},
   "outputs": [
    {
     "name": "stdout",
     "output_type": "stream",
     "text": [
      "MAE for KNN final is 511.40569863395604\n",
      "MAE for Decision Tree final is 310.9637342803766\n",
      "MAE for Random Forest final is 283.42557500000004\n",
      "MAE for Gradient Boosting final is 289.59716170662733\n",
      "MAE for CatBoost final is 569.3661328661783\n"
     ]
    }
   ],
   "source": [
    "# We have already evaluated the performances on the test set, here we only re-print the results.\n",
    "# Note that the best CatBoost has a poor performance because we trained it with a very low number of estimators.\n",
    "# This was decided because it is a slow algorithm and it took ages to perform hyper-parameter tuning in our laptops. \n",
    "#Best KNN\n",
    "print(\"MAE for KNN final is {}\".format(mae(model_knn_final_test_pred, ytest)))\n",
    "\n",
    "#Best Decision Tree\n",
    "print(\"MAE for Decision Tree final is {}\".format(mae(model_tree_final_test_pred, ytest)))\n",
    "\n",
    "#Best Random Forest\n",
    "print(\"MAE for Random Forest final is {}\".format(mae(model_rf_final_test_pred, ytest)))\n",
    "\n",
    "#Best Gradient Boosting\n",
    "print(\"MAE for Gradient Boosting final is {}\".format(mae(model_gb_final_test_pred, ytest)))\n",
    "\n",
    "# Best CatBoost\n",
    "print(\"MAE for CatBoost final is {}\".format(mae(model_cat_final_test_pred, ytest)))\n"
   ]
  },
  {
   "cell_type": "markdown",
   "metadata": {},
   "source": [
    "# 3. ATTRIBUTE SELECTION"
   ]
  },
  {
   "cell_type": "markdown",
   "metadata": {},
   "source": [
    "### 1. FEATURE SELECTION WITH SELECTKBEST"
   ]
  },
  {
   "cell_type": "markdown",
   "metadata": {},
   "source": [
    "In this step, we are going to use refit=True because this eases the way we can extract the best parameters selected by SelectKBest from the output object. We will use the datasets XtrainAndVal and ytrainAndVal so that the refitted output does not have any information from Xtest. \n",
    "\n",
    "The features selected and hyper-parameters of the Decision Tree are therefore calculated using the object *partitions*: training with Xtrain and validating with Xval (we have checked that), In addition, a final model is automatically computed with those features and hyper-parameters and we can directly make the predictions with the test set using this model. "
   ]
  },
  {
   "cell_type": "code",
   "execution_count": 56,
   "metadata": {},
   "outputs": [
    {
     "name": "stdout",
     "output_type": "stream",
     "text": [
      "Best hyper-parameters: {'regression__min_samples_split': 63, 'regression__max_depth': 9, 'feature_selection__k': 312} and MAE for best hyper-parameters: 305.35258378511065\n"
     ]
    }
   ],
   "source": [
    "np.random.seed(0)\n",
    "\n",
    "partitions = [(indicesTrain, indicesVal)]\n",
    "\n",
    "param_pipe_grid = {'feature_selection__k': np.arange(Xava.shape[1])+1,\n",
    "                       'regression__max_depth': np.arange(2,30),\n",
    "                       'regression__min_samples_split': np.arange(2, 100)\n",
    "}\n",
    "\n",
    "pipe_steps = Pipeline([\n",
    "  ('feature_selection', SelectKBest(f_regression)),\n",
    "  ('regression', tree.DecisionTreeRegressor(random_state=0))\n",
    "])\n",
    "\n",
    "budget = 40\n",
    "method_pipe = RandomizedSearchCV(\n",
    "    pipe_steps,\n",
    "    param_pipe_grid,\n",
    "    scoring='neg_mean_absolute_error',\n",
    "    refit = True,\n",
    "    cv=partitions,\n",
    "    n_jobs=1,\n",
    "    verbose=0,\n",
    "    n_iter = budget\n",
    ")\n",
    "\n",
    "model_pipe = method_pipe.fit(XtrainAndVal,ytrainAndVal)\n",
    "\n",
    "print(\"Best hyper-parameters: {} and MAE for best hyper-parameters: {}\".format(model_pipe.best_params_,\n",
    "                                                                                   -model_pipe.best_score_))"
   ]
  },
  {
   "cell_type": "markdown",
   "metadata": {},
   "source": [
    "We see from the results that the optimum model is using the 312 best predictor, according to the F-value of the correlation between the predictor and the output variable. We are going to predict now."
   ]
  },
  {
   "cell_type": "code",
   "execution_count": 64,
   "metadata": {},
   "outputs": [
    {
     "name": "stdout",
     "output_type": "stream",
     "text": [
      "MAE for Decision Tree final is 314.7982375521622\n"
     ]
    }
   ],
   "source": [
    "model_tree_pipe_final = model_pipe.best_estimator_\n",
    "\n",
    "# Train\n",
    "model_tree_pipe_final_test_pred = model_tree_pipe_final.predict(Xtest)\n",
    "print(\"MAE for Decision Tree final is {}\".format(mae(model_tree_pipe_final_test_pred, ytest)))"
   ]
  },
  {
   "cell_type": "markdown",
   "metadata": {},
   "source": [
    "The final performance is similar: MAE of 314.7982 vs 310.9637. However, we have not eliminated that much predictors. A possible explanation is that the function f_regression is not the one we should use. The predictor importance is calculated based on the individual correlation with the target variable, but neither interactions nor higher order dependencies are checked. We will then try with other methods. "
   ]
  },
  {
   "cell_type": "markdown",
   "metadata": {},
   "source": [
    "### 2. FEATURE SELECTION WITH MLXTEND"
   ]
  },
  {
   "cell_type": "markdown",
   "metadata": {},
   "source": [
    "In this step, we are going to use refit=True because this eases the way we can extract the best parameters selected by SelectKBest from the output object. We will use the datasets XtrainAndVal and ytrainAndVal so that the refitted output does not have any information from Xtest. \n",
    "\n",
    "The features selected and hyper-parameters of the Decision Tree are therefore calculated using the object *partitions*: training with Xtrain and validating with Xval (we have checked that), In addition, a final model is automatically computed with those features and hyper-parameters and we can directly make the predictions with the test set using this model. \n",
    "\n",
    "We are going to impose that it can select a model with a maximum of 50 variables. This speeds up the computation (models with more variables are slower to train) and forces simpler models.\n",
    "\n",
    "The budget is also low to speed up computation (in spite of a worse performance)."
   ]
  },
  {
   "cell_type": "code",
   "execution_count": 12,
   "metadata": {},
   "outputs": [
    {
     "name": "stdout",
     "output_type": "stream",
     "text": [
      "Fitting 1 folds for each of 10 candidates, totalling 10 fits\n"
     ]
    },
    {
     "name": "stderr",
     "output_type": "stream",
     "text": [
      "[Parallel(n_jobs=2)]: Done  10 out of  10 | elapsed: 37.5min finished\n",
      "[Parallel(n_jobs=1)]: Done 550 out of 550 | elapsed:    8.2s finished\n",
      "Features: 1/25[Parallel(n_jobs=1)]: Done 549 out of 549 | elapsed:   13.0s finished\n",
      "Features: 2/25[Parallel(n_jobs=1)]: Done 548 out of 548 | elapsed:   17.4s finished\n",
      "Features: 3/25[Parallel(n_jobs=1)]: Done 547 out of 547 | elapsed:   22.2s finished\n",
      "Features: 4/25[Parallel(n_jobs=1)]: Done 546 out of 546 | elapsed:   26.7s finished\n",
      "Features: 5/25[Parallel(n_jobs=1)]: Done 545 out of 545 | elapsed:   24.6s finished\n",
      "Features: 6/25[Parallel(n_jobs=1)]: Done 544 out of 544 | elapsed:   21.4s finished\n",
      "Features: 7/25[Parallel(n_jobs=1)]: Done 543 out of 543 | elapsed:   39.0s finished\n",
      "Features: 8/25[Parallel(n_jobs=1)]: Done 542 out of 542 | elapsed:   34.3s finished\n",
      "Features: 9/25[Parallel(n_jobs=1)]: Done 541 out of 541 | elapsed:   42.5s finished\n",
      "Features: 10/25[Parallel(n_jobs=1)]: Done 540 out of 540 | elapsed:   51.5s finished\n",
      "Features: 11/25[Parallel(n_jobs=1)]: Done 539 out of 539 | elapsed:   55.6s finished\n",
      "Features: 12/25[Parallel(n_jobs=1)]: Done 538 out of 538 | elapsed:   59.5s finished\n",
      "Features: 13/25[Parallel(n_jobs=1)]: Done 537 out of 537 | elapsed:   57.3s finished\n",
      "Features: 14/25[Parallel(n_jobs=1)]: Done 536 out of 536 | elapsed:   53.6s finished\n",
      "Features: 15/25[Parallel(n_jobs=1)]: Done 535 out of 535 | elapsed:  1.1min finished\n",
      "Features: 16/25[Parallel(n_jobs=1)]: Done 534 out of 534 | elapsed:  1.2min finished\n",
      "Features: 17/25[Parallel(n_jobs=1)]: Done 533 out of 533 | elapsed:  1.3min finished\n",
      "Features: 18/25[Parallel(n_jobs=1)]: Done 532 out of 532 | elapsed:  1.4min finished\n",
      "Features: 19/25[Parallel(n_jobs=1)]: Done 531 out of 531 | elapsed:  1.5min finished\n",
      "Features: 20/25[Parallel(n_jobs=1)]: Done 530 out of 530 | elapsed:  1.5min finished\n",
      "Features: 21/25[Parallel(n_jobs=1)]: Done 529 out of 529 | elapsed:  1.6min finished\n",
      "Features: 22/25[Parallel(n_jobs=1)]: Done 528 out of 528 | elapsed:  1.6min finished\n",
      "Features: 23/25[Parallel(n_jobs=1)]: Done 527 out of 527 | elapsed:  1.7min finished\n",
      "Features: 24/25[Parallel(n_jobs=1)]: Done 526 out of 526 | elapsed:  1.8min finished\n",
      "Features: 25/25"
     ]
    },
    {
     "name": "stdout",
     "output_type": "stream",
     "text": [
      "Best hyper-parameters: {'sfs__k_features': 25, 'sfs__estimator__min_samples_split': 32, 'sfs__estimator__max_depth': 24} and MAE for best hyper-parameters: 365.7979599692071\n"
     ]
    }
   ],
   "source": [
    "np.random.seed(0)\n",
    "\n",
    "partitions = [(indicesTrain, indicesVal)]\n",
    "\n",
    "\n",
    "sfs_tree = SFS(tree.DecisionTreeRegressor(), \n",
    "           k_features=1,\n",
    "           forward=True, \n",
    "           floating=False, \n",
    "           scoring='neg_mean_absolute_error',\n",
    "           cv=2, verbose = 1)\n",
    "'''\n",
    "model_sfs_tree = sfs_tree.fit(XtrainAndVal,ytrainAndVal)\n",
    "print(\"Best attribute subset: {} and MAE for best attribute subset: {}\".format(model_sfs_tree.k_feature_names_,\n",
    "                                                                                   -model_sfs_tree.k_score_))\n",
    "'''\n",
    "sfs_pipe = Pipeline([('sfs', sfs_tree),\n",
    "                     ('regression', tree.DecisionTreeRegressor())])\n",
    "\n",
    "param_sfs_pipe_grid = {'sfs__k_features': (1, 25),\n",
    "                       'sfs__estimator__max_depth': np.arange(2,30),\n",
    "                       'sfs__estimator__min_samples_split': np.arange(2, 100)}\n",
    "\n",
    "budget = 10\n",
    "method_sfs_pipe = RandomizedSearchCV(sfs_pipe,\n",
    "                                     param_sfs_pipe_grid,\n",
    "                                     scoring='neg_mean_absolute_error',\n",
    "                                     n_jobs=2,\n",
    "                                     cv=partitions,\n",
    "                                     refit=True,\n",
    "                                     verbose=1,\n",
    "                                     n_iter=budget\n",
    "                                    )\n",
    "\n",
    "if __name__ == '__main__':\n",
    "\n",
    "    model_sfs_pipe = method_sfs_pipe.fit(XtrainAndVal,ytrainAndVal)\n",
    "\n",
    "print(\"Best hyper-parameters: {} and MAE for best hyper-parameters: {}\".format(model_sfs_pipe.best_params_,\n",
    "                                                                                   -model_sfs_pipe.best_score_))"
   ]
  },
  {
   "cell_type": "code",
   "execution_count": 13,
   "metadata": {},
   "outputs": [
    {
     "name": "stdout",
     "output_type": "stream",
     "text": [
      "MAE for Decision Tree final is 367.2505829383886\n"
     ]
    }
   ],
   "source": [
    "model_sfs_pipe_final = model_sfs_pipe.best_estimator_\n",
    "\n",
    "# Train\n",
    "model_sfs_pipe_final = model_sfs_pipe_final.predict(Xtest)\n",
    "print(\"MAE for Decision Tree final is {}\".format(mae(model_sfs_pipe_final, ytest)))"
   ]
  },
  {
   "cell_type": "markdown",
   "metadata": {},
   "source": [
    "The final error is higher than expected, probably because we have restricted the budget (and the number of attributes; note that the model has selected 25 attributes, the maximum!) to decrease the computational time and a better hyper-parameter configuration was not found.\n",
    "\n",
    "We could also try backward sequential feature selection, instead of forward and check how we obtain a better result."
   ]
  },
  {
   "cell_type": "markdown",
   "metadata": {},
   "source": [
    "### 3. USE ONLY PREDICTORS FROM EXACT SOTAVENTO LOCATION."
   ]
  },
  {
   "cell_type": "markdown",
   "metadata": {},
   "source": [
    "First, create new predictor (X) matrices only with Sotavento predictors"
   ]
  },
  {
   "cell_type": "code",
   "execution_count": 60,
   "metadata": {},
   "outputs": [
    {
     "name": "stderr",
     "output_type": "stream",
     "text": [
      "C:\\Users\\toni3\\Anaconda3\\lib\\site-packages\\ipykernel_launcher.py:3: FutureWarning: Method .as_matrix will be removed in a future version. Use .values instead.\n",
      "  This is separate from the ipykernel package so we can avoid doing imports until\n"
     ]
    }
   ],
   "source": [
    "Xdata_sotav = data.iloc[:,18:550:25]\n",
    "\n",
    "Xsotav = Xdata_sotav.as_matrix()\n",
    "\n",
    "XtrainAndVal_sotav = Xsotav[indicesTrainAndVal,:]\n",
    "Xtest_sotav = Xsotav[indicesTest,:]"
   ]
  },
  {
   "cell_type": "markdown",
   "metadata": {},
   "source": [
    "Now, with this dataset train a hyper-parameter-tuned Decision Tree and test its performance"
   ]
  },
  {
   "cell_type": "code",
   "execution_count": 68,
   "metadata": {},
   "outputs": [
    {
     "name": "stderr",
     "output_type": "stream",
     "text": [
      "C:\\Users\\toni3\\Anaconda3\\lib\\site-packages\\skopt\\optimizer\\optimizer.py:399: UserWarning: The objective has been evaluated at this point before.\n",
      "  warnings.warn(\"The objective has been evaluated \"\n",
      "C:\\Users\\toni3\\Anaconda3\\lib\\site-packages\\skopt\\optimizer\\optimizer.py:399: UserWarning: The objective has been evaluated at this point before.\n",
      "  warnings.warn(\"The objective has been evaluated \"\n",
      "C:\\Users\\toni3\\Anaconda3\\lib\\site-packages\\skopt\\optimizer\\optimizer.py:399: UserWarning: The objective has been evaluated at this point before.\n",
      "  warnings.warn(\"The objective has been evaluated \"\n",
      "C:\\Users\\toni3\\Anaconda3\\lib\\site-packages\\skopt\\optimizer\\optimizer.py:399: UserWarning: The objective has been evaluated at this point before.\n",
      "  warnings.warn(\"The objective has been evaluated \"\n",
      "C:\\Users\\toni3\\Anaconda3\\lib\\site-packages\\skopt\\optimizer\\optimizer.py:399: UserWarning: The objective has been evaluated at this point before.\n",
      "  warnings.warn(\"The objective has been evaluated \"\n",
      "C:\\Users\\toni3\\Anaconda3\\lib\\site-packages\\skopt\\optimizer\\optimizer.py:399: UserWarning: The objective has been evaluated at this point before.\n",
      "  warnings.warn(\"The objective has been evaluated \"\n",
      "C:\\Users\\toni3\\Anaconda3\\lib\\site-packages\\skopt\\optimizer\\optimizer.py:399: UserWarning: The objective has been evaluated at this point before.\n",
      "  warnings.warn(\"The objective has been evaluated \"\n",
      "C:\\Users\\toni3\\Anaconda3\\lib\\site-packages\\skopt\\optimizer\\optimizer.py:399: UserWarning: The objective has been evaluated at this point before.\n",
      "  warnings.warn(\"The objective has been evaluated \"\n",
      "C:\\Users\\toni3\\Anaconda3\\lib\\site-packages\\skopt\\optimizer\\optimizer.py:399: UserWarning: The objective has been evaluated at this point before.\n",
      "  warnings.warn(\"The objective has been evaluated \"\n",
      "C:\\Users\\toni3\\Anaconda3\\lib\\site-packages\\skopt\\optimizer\\optimizer.py:399: UserWarning: The objective has been evaluated at this point before.\n",
      "  warnings.warn(\"The objective has been evaluated \"\n",
      "C:\\Users\\toni3\\Anaconda3\\lib\\site-packages\\skopt\\optimizer\\optimizer.py:399: UserWarning: The objective has been evaluated at this point before.\n",
      "  warnings.warn(\"The objective has been evaluated \"\n",
      "C:\\Users\\toni3\\Anaconda3\\lib\\site-packages\\skopt\\optimizer\\optimizer.py:399: UserWarning: The objective has been evaluated at this point before.\n",
      "  warnings.warn(\"The objective has been evaluated \"\n",
      "C:\\Users\\toni3\\Anaconda3\\lib\\site-packages\\skopt\\optimizer\\optimizer.py:399: UserWarning: The objective has been evaluated at this point before.\n",
      "  warnings.warn(\"The objective has been evaluated \"\n",
      "C:\\Users\\toni3\\Anaconda3\\lib\\site-packages\\skopt\\optimizer\\optimizer.py:399: UserWarning: The objective has been evaluated at this point before.\n",
      "  warnings.warn(\"The objective has been evaluated \"\n",
      "C:\\Users\\toni3\\Anaconda3\\lib\\site-packages\\skopt\\optimizer\\optimizer.py:399: UserWarning: The objective has been evaluated at this point before.\n",
      "  warnings.warn(\"The objective has been evaluated \"\n",
      "C:\\Users\\toni3\\Anaconda3\\lib\\site-packages\\skopt\\optimizer\\optimizer.py:399: UserWarning: The objective has been evaluated at this point before.\n",
      "  warnings.warn(\"The objective has been evaluated \"\n",
      "C:\\Users\\toni3\\Anaconda3\\lib\\site-packages\\skopt\\optimizer\\optimizer.py:399: UserWarning: The objective has been evaluated at this point before.\n",
      "  warnings.warn(\"The objective has been evaluated \"\n",
      "C:\\Users\\toni3\\Anaconda3\\lib\\site-packages\\skopt\\optimizer\\optimizer.py:399: UserWarning: The objective has been evaluated at this point before.\n",
      "  warnings.warn(\"The objective has been evaluated \"\n",
      "C:\\Users\\toni3\\Anaconda3\\lib\\site-packages\\skopt\\optimizer\\optimizer.py:399: UserWarning: The objective has been evaluated at this point before.\n",
      "  warnings.warn(\"The objective has been evaluated \"\n",
      "C:\\Users\\toni3\\Anaconda3\\lib\\site-packages\\skopt\\optimizer\\optimizer.py:399: UserWarning: The objective has been evaluated at this point before.\n",
      "  warnings.warn(\"The objective has been evaluated \"\n",
      "C:\\Users\\toni3\\Anaconda3\\lib\\site-packages\\skopt\\optimizer\\optimizer.py:399: UserWarning: The objective has been evaluated at this point before.\n",
      "  warnings.warn(\"The objective has been evaluated \"\n",
      "C:\\Users\\toni3\\Anaconda3\\lib\\site-packages\\skopt\\optimizer\\optimizer.py:399: UserWarning: The objective has been evaluated at this point before.\n",
      "  warnings.warn(\"The objective has been evaluated \"\n",
      "C:\\Users\\toni3\\Anaconda3\\lib\\site-packages\\skopt\\optimizer\\optimizer.py:399: UserWarning: The objective has been evaluated at this point before.\n",
      "  warnings.warn(\"The objective has been evaluated \"\n",
      "C:\\Users\\toni3\\Anaconda3\\lib\\site-packages\\skopt\\optimizer\\optimizer.py:399: UserWarning: The objective has been evaluated at this point before.\n",
      "  warnings.warn(\"The objective has been evaluated \"\n",
      "C:\\Users\\toni3\\Anaconda3\\lib\\site-packages\\skopt\\optimizer\\optimizer.py:399: UserWarning: The objective has been evaluated at this point before.\n",
      "  warnings.warn(\"The objective has been evaluated \"\n",
      "C:\\Users\\toni3\\Anaconda3\\lib\\site-packages\\skopt\\optimizer\\optimizer.py:399: UserWarning: The objective has been evaluated at this point before.\n",
      "  warnings.warn(\"The objective has been evaluated \"\n",
      "C:\\Users\\toni3\\Anaconda3\\lib\\site-packages\\skopt\\optimizer\\optimizer.py:399: UserWarning: The objective has been evaluated at this point before.\n",
      "  warnings.warn(\"The objective has been evaluated \"\n",
      "C:\\Users\\toni3\\Anaconda3\\lib\\site-packages\\skopt\\optimizer\\optimizer.py:399: UserWarning: The objective has been evaluated at this point before.\n",
      "  warnings.warn(\"The objective has been evaluated \"\n",
      "C:\\Users\\toni3\\Anaconda3\\lib\\site-packages\\skopt\\optimizer\\optimizer.py:399: UserWarning: The objective has been evaluated at this point before.\n",
      "  warnings.warn(\"The objective has been evaluated \"\n",
      "C:\\Users\\toni3\\Anaconda3\\lib\\site-packages\\skopt\\optimizer\\optimizer.py:399: UserWarning: The objective has been evaluated at this point before.\n",
      "  warnings.warn(\"The objective has been evaluated \"\n",
      "C:\\Users\\toni3\\Anaconda3\\lib\\site-packages\\skopt\\optimizer\\optimizer.py:399: UserWarning: The objective has been evaluated at this point before.\n",
      "  warnings.warn(\"The objective has been evaluated \"\n",
      "C:\\Users\\toni3\\Anaconda3\\lib\\site-packages\\skopt\\optimizer\\optimizer.py:399: UserWarning: The objective has been evaluated at this point before.\n",
      "  warnings.warn(\"The objective has been evaluated \"\n",
      "C:\\Users\\toni3\\Anaconda3\\lib\\site-packages\\skopt\\optimizer\\optimizer.py:399: UserWarning: The objective has been evaluated at this point before.\n",
      "  warnings.warn(\"The objective has been evaluated \"\n",
      "C:\\Users\\toni3\\Anaconda3\\lib\\site-packages\\skopt\\optimizer\\optimizer.py:399: UserWarning: The objective has been evaluated at this point before.\n",
      "  warnings.warn(\"The objective has been evaluated \"\n",
      "C:\\Users\\toni3\\Anaconda3\\lib\\site-packages\\skopt\\optimizer\\optimizer.py:399: UserWarning: The objective has been evaluated at this point before.\n",
      "  warnings.warn(\"The objective has been evaluated \"\n",
      "C:\\Users\\toni3\\Anaconda3\\lib\\site-packages\\skopt\\optimizer\\optimizer.py:399: UserWarning: The objective has been evaluated at this point before.\n",
      "  warnings.warn(\"The objective has been evaluated \"\n",
      "C:\\Users\\toni3\\Anaconda3\\lib\\site-packages\\skopt\\optimizer\\optimizer.py:399: UserWarning: The objective has been evaluated at this point before.\n",
      "  warnings.warn(\"The objective has been evaluated \"\n",
      "C:\\Users\\toni3\\Anaconda3\\lib\\site-packages\\skopt\\optimizer\\optimizer.py:399: UserWarning: The objective has been evaluated at this point before.\n",
      "  warnings.warn(\"The objective has been evaluated \"\n",
      "C:\\Users\\toni3\\Anaconda3\\lib\\site-packages\\skopt\\optimizer\\optimizer.py:399: UserWarning: The objective has been evaluated at this point before.\n",
      "  warnings.warn(\"The objective has been evaluated \"\n",
      "C:\\Users\\toni3\\Anaconda3\\lib\\site-packages\\skopt\\optimizer\\optimizer.py:399: UserWarning: The objective has been evaluated at this point before.\n",
      "  warnings.warn(\"The objective has been evaluated \"\n",
      "C:\\Users\\toni3\\Anaconda3\\lib\\site-packages\\skopt\\optimizer\\optimizer.py:399: UserWarning: The objective has been evaluated at this point before.\n",
      "  warnings.warn(\"The objective has been evaluated \"\n",
      "C:\\Users\\toni3\\Anaconda3\\lib\\site-packages\\skopt\\optimizer\\optimizer.py:399: UserWarning: The objective has been evaluated at this point before.\n",
      "  warnings.warn(\"The objective has been evaluated \"\n"
     ]
    },
    {
     "name": "stderr",
     "output_type": "stream",
     "text": [
      "C:\\Users\\toni3\\Anaconda3\\lib\\site-packages\\skopt\\optimizer\\optimizer.py:399: UserWarning: The objective has been evaluated at this point before.\n",
      "  warnings.warn(\"The objective has been evaluated \"\n",
      "C:\\Users\\toni3\\Anaconda3\\lib\\site-packages\\skopt\\optimizer\\optimizer.py:399: UserWarning: The objective has been evaluated at this point before.\n",
      "  warnings.warn(\"The objective has been evaluated \"\n",
      "C:\\Users\\toni3\\Anaconda3\\lib\\site-packages\\skopt\\optimizer\\optimizer.py:399: UserWarning: The objective has been evaluated at this point before.\n",
      "  warnings.warn(\"The objective has been evaluated \"\n",
      "C:\\Users\\toni3\\Anaconda3\\lib\\site-packages\\skopt\\optimizer\\optimizer.py:399: UserWarning: The objective has been evaluated at this point before.\n",
      "  warnings.warn(\"The objective has been evaluated \"\n",
      "C:\\Users\\toni3\\Anaconda3\\lib\\site-packages\\skopt\\optimizer\\optimizer.py:399: UserWarning: The objective has been evaluated at this point before.\n",
      "  warnings.warn(\"The objective has been evaluated \"\n",
      "C:\\Users\\toni3\\Anaconda3\\lib\\site-packages\\skopt\\optimizer\\optimizer.py:399: UserWarning: The objective has been evaluated at this point before.\n",
      "  warnings.warn(\"The objective has been evaluated \"\n",
      "C:\\Users\\toni3\\Anaconda3\\lib\\site-packages\\skopt\\optimizer\\optimizer.py:399: UserWarning: The objective has been evaluated at this point before.\n",
      "  warnings.warn(\"The objective has been evaluated \"\n",
      "C:\\Users\\toni3\\Anaconda3\\lib\\site-packages\\skopt\\optimizer\\optimizer.py:399: UserWarning: The objective has been evaluated at this point before.\n",
      "  warnings.warn(\"The objective has been evaluated \"\n",
      "C:\\Users\\toni3\\Anaconda3\\lib\\site-packages\\skopt\\optimizer\\optimizer.py:399: UserWarning: The objective has been evaluated at this point before.\n",
      "  warnings.warn(\"The objective has been evaluated \"\n",
      "C:\\Users\\toni3\\Anaconda3\\lib\\site-packages\\skopt\\optimizer\\optimizer.py:399: UserWarning: The objective has been evaluated at this point before.\n",
      "  warnings.warn(\"The objective has been evaluated \"\n",
      "C:\\Users\\toni3\\Anaconda3\\lib\\site-packages\\skopt\\optimizer\\optimizer.py:399: UserWarning: The objective has been evaluated at this point before.\n",
      "  warnings.warn(\"The objective has been evaluated \"\n",
      "C:\\Users\\toni3\\Anaconda3\\lib\\site-packages\\skopt\\optimizer\\optimizer.py:399: UserWarning: The objective has been evaluated at this point before.\n",
      "  warnings.warn(\"The objective has been evaluated \"\n",
      "C:\\Users\\toni3\\Anaconda3\\lib\\site-packages\\skopt\\optimizer\\optimizer.py:399: UserWarning: The objective has been evaluated at this point before.\n",
      "  warnings.warn(\"The objective has been evaluated \"\n",
      "C:\\Users\\toni3\\Anaconda3\\lib\\site-packages\\skopt\\optimizer\\optimizer.py:399: UserWarning: The objective has been evaluated at this point before.\n",
      "  warnings.warn(\"The objective has been evaluated \"\n",
      "C:\\Users\\toni3\\Anaconda3\\lib\\site-packages\\skopt\\optimizer\\optimizer.py:399: UserWarning: The objective has been evaluated at this point before.\n",
      "  warnings.warn(\"The objective has been evaluated \"\n",
      "C:\\Users\\toni3\\Anaconda3\\lib\\site-packages\\skopt\\optimizer\\optimizer.py:399: UserWarning: The objective has been evaluated at this point before.\n",
      "  warnings.warn(\"The objective has been evaluated \"\n",
      "C:\\Users\\toni3\\Anaconda3\\lib\\site-packages\\skopt\\optimizer\\optimizer.py:399: UserWarning: The objective has been evaluated at this point before.\n",
      "  warnings.warn(\"The objective has been evaluated \"\n",
      "C:\\Users\\toni3\\Anaconda3\\lib\\site-packages\\skopt\\optimizer\\optimizer.py:399: UserWarning: The objective has been evaluated at this point before.\n",
      "  warnings.warn(\"The objective has been evaluated \"\n",
      "C:\\Users\\toni3\\Anaconda3\\lib\\site-packages\\skopt\\optimizer\\optimizer.py:399: UserWarning: The objective has been evaluated at this point before.\n",
      "  warnings.warn(\"The objective has been evaluated \"\n",
      "C:\\Users\\toni3\\Anaconda3\\lib\\site-packages\\skopt\\optimizer\\optimizer.py:399: UserWarning: The objective has been evaluated at this point before.\n",
      "  warnings.warn(\"The objective has been evaluated \"\n",
      "C:\\Users\\toni3\\Anaconda3\\lib\\site-packages\\skopt\\optimizer\\optimizer.py:399: UserWarning: The objective has been evaluated at this point before.\n",
      "  warnings.warn(\"The objective has been evaluated \"\n",
      "C:\\Users\\toni3\\Anaconda3\\lib\\site-packages\\skopt\\optimizer\\optimizer.py:399: UserWarning: The objective has been evaluated at this point before.\n",
      "  warnings.warn(\"The objective has been evaluated \"\n",
      "C:\\Users\\toni3\\Anaconda3\\lib\\site-packages\\skopt\\optimizer\\optimizer.py:399: UserWarning: The objective has been evaluated at this point before.\n",
      "  warnings.warn(\"The objective has been evaluated \"\n",
      "C:\\Users\\toni3\\Anaconda3\\lib\\site-packages\\skopt\\optimizer\\optimizer.py:399: UserWarning: The objective has been evaluated at this point before.\n",
      "  warnings.warn(\"The objective has been evaluated \"\n",
      "C:\\Users\\toni3\\Anaconda3\\lib\\site-packages\\skopt\\optimizer\\optimizer.py:399: UserWarning: The objective has been evaluated at this point before.\n",
      "  warnings.warn(\"The objective has been evaluated \"\n",
      "C:\\Users\\toni3\\Anaconda3\\lib\\site-packages\\skopt\\optimizer\\optimizer.py:399: UserWarning: The objective has been evaluated at this point before.\n",
      "  warnings.warn(\"The objective has been evaluated \"\n",
      "C:\\Users\\toni3\\Anaconda3\\lib\\site-packages\\skopt\\optimizer\\optimizer.py:399: UserWarning: The objective has been evaluated at this point before.\n",
      "  warnings.warn(\"The objective has been evaluated \"\n",
      "C:\\Users\\toni3\\Anaconda3\\lib\\site-packages\\skopt\\optimizer\\optimizer.py:399: UserWarning: The objective has been evaluated at this point before.\n",
      "  warnings.warn(\"The objective has been evaluated \"\n",
      "C:\\Users\\toni3\\Anaconda3\\lib\\site-packages\\skopt\\optimizer\\optimizer.py:399: UserWarning: The objective has been evaluated at this point before.\n",
      "  warnings.warn(\"The objective has been evaluated \"\n",
      "C:\\Users\\toni3\\Anaconda3\\lib\\site-packages\\skopt\\optimizer\\optimizer.py:399: UserWarning: The objective has been evaluated at this point before.\n",
      "  warnings.warn(\"The objective has been evaluated \"\n",
      "C:\\Users\\toni3\\Anaconda3\\lib\\site-packages\\skopt\\optimizer\\optimizer.py:399: UserWarning: The objective has been evaluated at this point before.\n",
      "  warnings.warn(\"The objective has been evaluated \"\n",
      "C:\\Users\\toni3\\Anaconda3\\lib\\site-packages\\skopt\\optimizer\\optimizer.py:399: UserWarning: The objective has been evaluated at this point before.\n",
      "  warnings.warn(\"The objective has been evaluated \"\n",
      "C:\\Users\\toni3\\Anaconda3\\lib\\site-packages\\skopt\\optimizer\\optimizer.py:399: UserWarning: The objective has been evaluated at this point before.\n",
      "  warnings.warn(\"The objective has been evaluated \"\n",
      "C:\\Users\\toni3\\Anaconda3\\lib\\site-packages\\skopt\\optimizer\\optimizer.py:399: UserWarning: The objective has been evaluated at this point before.\n",
      "  warnings.warn(\"The objective has been evaluated \"\n",
      "C:\\Users\\toni3\\Anaconda3\\lib\\site-packages\\skopt\\optimizer\\optimizer.py:399: UserWarning: The objective has been evaluated at this point before.\n",
      "  warnings.warn(\"The objective has been evaluated \"\n",
      "C:\\Users\\toni3\\Anaconda3\\lib\\site-packages\\skopt\\optimizer\\optimizer.py:399: UserWarning: The objective has been evaluated at this point before.\n",
      "  warnings.warn(\"The objective has been evaluated \"\n",
      "C:\\Users\\toni3\\Anaconda3\\lib\\site-packages\\skopt\\optimizer\\optimizer.py:399: UserWarning: The objective has been evaluated at this point before.\n",
      "  warnings.warn(\"The objective has been evaluated \"\n",
      "C:\\Users\\toni3\\Anaconda3\\lib\\site-packages\\skopt\\optimizer\\optimizer.py:399: UserWarning: The objective has been evaluated at this point before.\n",
      "  warnings.warn(\"The objective has been evaluated \"\n",
      "C:\\Users\\toni3\\Anaconda3\\lib\\site-packages\\skopt\\optimizer\\optimizer.py:399: UserWarning: The objective has been evaluated at this point before.\n",
      "  warnings.warn(\"The objective has been evaluated \"\n"
     ]
    },
    {
     "name": "stdout",
     "output_type": "stream",
     "text": [
      "Best hyper-parameters: {'max_depth': 9, 'min_samples_split': 96} and MAE for best hyper-parameters: 302.7641351682713\n",
      "MAE for Sotavento Predictors is 316.9406557818423\n"
     ]
    }
   ],
   "source": [
    "np.random.seed(0)\n",
    "\n",
    "tree_sotav = tree.DecisionTreeRegressor()\n",
    "param_grid_tree_sotav = {'max_depth': (2,30), \n",
    "                   'min_samples_split': (2,100)                \n",
    "}\n",
    "\n",
    "budget = 100\n",
    "\n",
    "if __name__ == '__main__':\n",
    "    bayes_tree_sotav = BayesSearchCV(\n",
    "            tree_sotav, \n",
    "            param_grid_tree_sotav, \n",
    "            scoring='neg_mean_absolute_error', \n",
    "            refit = False,\n",
    "            cv=partitions, \n",
    "            n_jobs=4, \n",
    "            verbose=0, \n",
    "            n_iter=budget\n",
    "    )\n",
    "\n",
    "    sotav = bayes_tree_sotav.fit(Xsotav, yava)\n",
    "    print(\"Best hyper-parameters: {} and MAE for best hyper-parameters: {}\".format(sotav.best_params_, -sotav.best_score_))\n",
    "    \n",
    "    sotav_final = tree.DecisionTreeRegressor()\n",
    "    sotav_final.set_params(**sotav.best_params_)\n",
    "    model_sotav_final = sotav_final.fit(XtrainAndVal_sotav, ytrainAndVal)\n",
    "    model_sotav_final_test_pred = model_sotav_final.predict(Xtest_sotav)\n",
    "    print(\"MAE for Sotavento Predictors is {}\".format(mae(model_sotav_final_test_pred, ytest)))"
   ]
  },
  {
   "cell_type": "markdown",
   "metadata": {},
   "source": [
    "The performance is quite similar to the performance obtained with all the predictors: Mae of 316.9407 vs 310.9637. And we are using much less attributes."
   ]
  },
  {
   "cell_type": "markdown",
   "metadata": {},
   "source": [
    "### 4. USE RANDOM FOREST PREDICTOR IMPORTANCE (EXTRA)."
   ]
  },
  {
   "cell_type": "markdown",
   "metadata": {},
   "source": [
    "Random Forest computes the predictor importance from the Out-Of-Bag estimation of performance of the different sub-trees of the Random Forest. \n",
    "\n",
    "In Random Forest, when training the individual estimators (in our case, the small scikit Decision Trees), for each estimator, there are instances not used in the training. This is because each of the estimators is trained with a random subset of the entire dataset. Then, Random Forest can compute \"Out-Of-Bag\" errors in each estimator. That is, a Decision Tree is trained with a random subset of the dataset. With the instances not included, it makes predictions and calculates the error (we call them Out-of-bag errors). This is done for each individual estimator of the Random Forest. So, finally, an average error is computed. \n",
    "\n",
    "And these Out-Of-Bag errors are used to estimate the predictor importance! What the algorithm does internally is, first, to calculate each Out-Of-Bag error in the usual way. Then, it shuffles one of the attributes, and re-compute the error. If the error difference is small, we can say that that attribute is not very important. Because even putting random numbers in that attribute, the error is not affected. On the other hand, if the error increases a lot, the attribute is considered very important."
   ]
  },
  {
   "cell_type": "code",
   "execution_count": 84,
   "metadata": {},
   "outputs": [
    {
     "data": {
      "image/png": "[encoded data removed]",
      "text/plain": [
       "<Figure size 432x288 with 1 Axes>"
      ]
     },
     "metadata": {
      "needs_background": "light"
     },
     "output_type": "display_data"
    }
   ],
   "source": [
    "importances = model_rf_final.feature_importances_\n",
    "\n",
    "# Compute standard deviations\n",
    "std = np.std([tree.feature_importances_ for tree in model_rf_final.estimators_],\n",
    "             axis=0)\n",
    "\n",
    "indices = np.argsort(importances)[::-1]\n",
    "\n",
    "# Print the feature ranking\n",
    "#print(\"Feature ranking:\")\n",
    "\n",
    "#for f in range(XtrainAndVal.shape[1]):\n",
    "    #print(\"%d. feature %d (%f)\" % (f + 1, indices[f], importances[indices[f]]))\n",
    "\n",
    "# Plot the feature importances of the forest\n",
    "plt.figure()\n",
    "plt.title(\"Feature importances\")\n",
    "plt.bar(range(XtrainAndVal.shape[1]), importances[indices],\n",
    "       color=\"r\", yerr=std[indices], align=\"center\")\n",
    "plt.xticks(range(XtrainAndVal.shape[1]), indices)\n",
    "plt.xlim([-1, XtrainAndVal.shape[1]])\n",
    "plt.show()"
   ]
  },
  {
   "cell_type": "code",
   "execution_count": null,
   "metadata": {},
   "outputs": [],
   "source": [
    "indices"
   ]
  },
  {
   "cell_type": "markdown",
   "metadata": {},
   "source": [
    "To find the number of attributes to keep we will use the Elbow Method (for simplicity, we ignore the standard deviations). Is it possible to set the number of attributes as an hyper-parameter?"
   ]
  },
  {
   "cell_type": "code",
   "execution_count": 40,
   "metadata": {},
   "outputs": [
    {
     "name": "stdout",
     "output_type": "stream",
     "text": [
      "We should keep 29 attributes\n"
     ]
    },
    {
     "data": {
      "image/png": "[encoded data removed]",
      "text/plain": [
       "<Figure size 432x288 with 1 Axes>"
      ]
     },
     "metadata": {
      "needs_background": "light"
     },
     "output_type": "display_data"
    }
   ],
   "source": [
    "y = importances[indices]\n",
    "x = range(1, len(y) + 1)\n",
    "kn = KneeLocator(x, y, curve = 'convex', direction = 'decreasing')\n",
    "\n",
    "plt.xlabel('Number of attributes')\n",
    "plt.ylabel('Attribute Importance')\n",
    "plt.plot(x, y, 'bx-')\n",
    "plt.vlines(kn.knee, plt.ylim()[0], plt.ylim()[1], linestyles='dashed')\n",
    "print(\"We should keep %d attributes\" % kn.knee)"
   ]
  },
  {
   "cell_type": "markdown",
   "metadata": {},
   "source": [
    "Select only the first 29 attributes"
   ]
  },
  {
   "cell_type": "code",
   "execution_count": 54,
   "metadata": {},
   "outputs": [],
   "source": [
    "Xava_rf = Xava[:,indices]\n",
    "Xava_rf = Xava_rf[:, 0:28]\n",
    "\n",
    "Xtest_rf = Xtest[:,indices]\n",
    "Xtest_rf = Xtest_rf[:,0:28]\n",
    "\n",
    "XtrainAndVal_rf = XtrainAndVal[:, indices]\n",
    "XtrainAndVal_rf = XtrainAndVal_rf[:, 0:28]"
   ]
  },
  {
   "cell_type": "code",
   "execution_count": 58,
   "metadata": {},
   "outputs": [
    {
     "name": "stdout",
     "output_type": "stream",
     "text": [
      "Best Bayes search max_depth, min_samples_split: {'max_depth': 29, 'min_samples_split': 76} and MAE for best Decision tree: 306.2005894012507\n",
      "MAE for Decision Tree final is 316.32129495737126\n"
     ]
    }
   ],
   "source": [
    "# Hyper-parameter tuning --> Bayesian Optimization\n",
    "np.random.seed(0)\n",
    "\n",
    "#In spite of the different hyper-parameters for a decision tree (max_depth, min_samples_split, max_features, min_samples_leaf),\n",
    "#only max_depth and min_samples_split are used because of the academic goal of this study\n",
    "param_tree_bayes_grid = {'max_depth': (2,30),\n",
    "                         'min_samples_split': (2,100)\n",
    "}\n",
    "budget = 100\n",
    "method_tree_bayes_att = BayesSearchCV(\n",
    "        method_tree, \n",
    "        param_tree_bayes_grid, \n",
    "        scoring='neg_mean_absolute_error',\n",
    "        refit = False,\n",
    "        cv = partitions, \n",
    "        n_jobs =1, \n",
    "        verbose = 0,\n",
    "        n_iter = budget\n",
    ")\n",
    "\n",
    "model_tree_bayes_att = method_tree_bayes_att.fit(Xava_rf, yava)\n",
    "print(\"Best Bayes search max_depth, min_samples_split: {} \\\n",
    "and MAE for best Decision tree: {}\".format(model_tree_bayes_att.best_params_, -model_tree_bayes_att.best_score_))\n",
    "\n",
    "tree_final_att = tree.DecisionTreeRegressor()\n",
    "tree_final_att.set_params(**model_tree_bayes_att.best_params_)\n",
    "model_tree_final_att = tree_final_att.fit(XtrainAndVal_rf, ytrainAndVal)\n",
    "model_tree_final_att_test_pred = model_tree_final_att.predict(Xtest_rf)\n",
    "print(\"MAE for Decision Tree final is {}\".format(mae(model_tree_final_att_test_pred, ytest)))\n"
   ]
  },
  {
   "cell_type": "markdown",
   "metadata": {},
   "source": [
    "The performance is similar (316.3213 vs 310.9637) and we are using 5% of the attributes!"
   ]
  }
 ],
 "metadata": {
  "kernelspec": {
   "display_name": "Python 3",
   "language": "python",
   "name": "python3"
  },
  "language_info": {
   "codemirror_mode": {
    "name": "ipython",
    "version": 3
   },
   "file_extension": ".py",
   "mimetype": "text/x-python",
   "name": "python",
   "nbconvert_exporter": "python",
   "pygments_lexer": "ipython3",
   "version": "3.6.8"
  }
 },
 "nbformat": 4,
 "nbformat_minor": 1
}
